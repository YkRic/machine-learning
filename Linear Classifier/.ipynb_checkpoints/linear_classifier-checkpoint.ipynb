{
 "cells": [
  {
   "cell_type": "markdown",
   "metadata": {},
   "source": [
    "Tarefa 1: \n",
    "---------\n",
    "* Implementar um classificador linear (apenas o passo de predição). \n",
    "* Usar os pesos carregados para efetuar a classificação do conjunto de teste. \n",
    "* Gerar pesos aleatórios (para W e b) e comparar os resultados.\n",
    "* Recomendável I: implementar ambos esquemas de predição: 1) X = (A, N); e 2) X = (N, A). Onde A é o número de atributos (pixels) e N é o número de instâncias (imagens). \n",
    "* Recomendável II: implemente o k-NN com distâncias L1 (manhattan) e L2 (euclidiana) e compare os resultados. "
   ]
  },
  {
   "cell_type": "code",
   "execution_count": 385,
   "metadata": {
    "collapsed": false
   },
   "outputs": [],
   "source": [
    "%matplotlib inline\n",
    "%matplotlib inline\n",
    "\n",
    "import numpy as np\n",
    "import matplotlib\n",
    "import matplotlib.pyplot as plt\n",
    "\n",
    "from sklearn.datasets import load_digits\n",
    "from sklearn.cross_validation import train_test_split\n"
   ]
  },
  {
   "cell_type": "code",
   "execution_count": null,
   "metadata": {
    "collapsed": true
   },
   "outputs": [],
   "source": []
  },
  {
   "cell_type": "markdown",
   "metadata": {},
   "source": [
    "Carregando o dataset de dígitos. Pode ser que demore um pouco, pois a rotina load_digits baixa os dados quando necessário. São 1797 imagens preto e branco com 8 x 8 pixels. \n",
    "Obs: na terceira linha é feita uma normalização para as imagens ficarem entre 0 e 1. Não se preocupe com isso ainda. "
   ]
  },
  {
   "cell_type": "code",
   "execution_count": 386,
   "metadata": {
    "collapsed": false
   },
   "outputs": [
    {
     "name": "stdout",
     "output_type": "stream",
     "text": [
      "X_treino: (1203, 64)\n",
      "y_treino: (1203,)\n",
      "X_teste : (594, 64)\n",
      "y_teste : (594,)\n"
     ]
    }
   ],
   "source": [
    "# 1797 imagens em grayscale 8 x 8 = 64 pixels\n",
    "# Digitos (Classes): [0, 1, 2, 3, 4, 5, 6, 7, 8, 9]\n",
    "dataset = load_digits(n_class=10)\n",
    "# Obtem as instancias (N X A)\n",
    "X = dataset.data\n",
    "# Obtem as classes (C)\n",
    "y = dataset.target\n",
    "\n",
    "# Divide entre treinamento e teste\n",
    "X_treino, X_teste, y_treino, y_teste = train_test_split(X, y, test_size=0.33, random_state=42)\n",
    "\n",
    "# Normalizacao\n",
    "max_ = X_treino.max()\n",
    "X_treino /= max_\n",
    "X_teste  /= max_\n",
    "\n",
    "# Imprime as dimensoes das matrizes/vetores\n",
    "print 'X_treino:', X_treino.shape\n",
    "print 'y_treino:', y_treino.shape\n",
    "print 'X_teste :', X_teste.shape\n",
    "print 'y_teste :', y_teste.shape"
   ]
  },
  {
   "cell_type": "markdown",
   "metadata": {},
   "source": [
    "Em seguida nós plotamos algumas imagens do treino para verificar se os dados foram carregados corretamente. Não se preocupe se não entender esta parte do código. "
   ]
  },
  {
   "cell_type": "code",
   "execution_count": 387,
   "metadata": {
    "collapsed": false,
    "scrolled": false
   },
   "outputs": [
    {
     "data": {
      "image/png": "[encoded data removed]",
      "text/plain": [
       "<matplotlib.figure.Figure at 0x7f714540e690>"
      ]
     },
     "metadata": {},
     "output_type": "display_data"
    }
   ],
   "source": [
    "import pylab as plt\n",
    "plt.gray() \n",
    "images_and_labels = list(zip(dataset.images, dataset.target))\n",
    "for index, (image, label) in enumerate(images_and_labels[:5]):\n",
    "    plt.subplot(2, 5, index + 1)\n",
    "    plt.axis('off')\n",
    "    plt.imshow(image, cmap=plt.cm.gray_r, interpolation='nearest')\n",
    "    plt.title('Classe: %i' % label)"
   ]
  },
  {
   "cell_type": "markdown",
   "metadata": {},
   "source": [
    "Aqui estão os pesos que você deverá usar para fazer a classificação do treino. "
   ]
  },
  {
   "cell_type": "code",
   "execution_count": 388,
   "metadata": {
    "collapsed": false
   },
   "outputs": [
    {
     "name": "stdout",
     "output_type": "stream",
     "text": [
      "W shape (64, 10)\n",
      "b shape (1, 10)\n"
     ]
    }
   ],
   "source": [
    "# Carrega os pesos serializados\n",
    "W, b = np.load('weights.npy')\n",
    "# Imprime as dimensões das matrizes/vetores dos pesos\n",
    "print 'W shape', W.shape\n",
    "print 'b shape', b.shape"
   ]
  },
  {
   "cell_type": "markdown",
   "metadata": {},
   "source": [
    "1) Implemente a predição usando o classificador linear:"
   ]
  },
  {
   "cell_type": "code",
   "execution_count": 389,
   "metadata": {
    "collapsed": false
   },
   "outputs": [],
   "source": [
    "def predicao(X, W, b):\n",
    "    predict_matrix = np.dot(X,W)+b\n",
    "    \n",
    "    y_predito = np.zeros(predict_matrix.shape[0])\n",
    "    \n",
    "    prediction_size = predict_matrix.shape[0]\n",
    "    for i in xrange(prediction_size):\n",
    "        y_predito[i] = np.argmax(predict_matrix[i])\n",
    "\n",
    "    return y_predito\n"
   ]
  },
  {
   "cell_type": "markdown",
   "metadata": {},
   "source": [
    "2) Implemente uma medida de desempenho como acurácia ou erro de classificação (evite usar sklearn e outras bibliotecas prontas para isso). \n",
    "* Acurácia = Número de acertos / Número de imagens \n",
    "* Erro = Número de erros / Número de imagens\n",
    "* Implemente outras medidas se quiser. \n"
   ]
  },
  {
   "cell_type": "code",
   "execution_count": 390,
   "metadata": {
    "collapsed": false
   },
   "outputs": [],
   "source": [
    "def avaliar_resultados(y_teste, y_predito):\n",
    "    num_of_images = y_teste.size\n",
    "    #print y_teste - y_predito\n",
    "    num_of_errors = float(np.count_nonzero(y_teste - y_predito))\n",
    "    num_of_hits = num_of_images - num_of_errors\n",
    "    desempenho = num_of_hits / num_of_images #Acurácia\n",
    "    \n",
    "    print 'Number of images: %d \\nNumber of errors: %d \\nNumber of Hits: %d \\nAccuracy: %f\\n' \\\n",
    "    % (num_of_images, num_of_errors, num_of_hits, desempenho)\n",
    "    \n",
    "    return desempenho\n",
    "\n",
    "def getAccuracy(y_teste, y_predito):\n",
    "    num_of_images = y_teste.size\n",
    "    num_of_errors = float(np.count_nonzero(y_teste - y_predito))\n",
    "    num_of_hits = num_of_images - num_of_errors\n",
    "    accuracy = num_of_hits / num_of_images #Acurácia\n",
    "\n",
    "    return accuracy"
   ]
  },
  {
   "cell_type": "markdown",
   "metadata": {},
   "source": [
    "3) Teste o desempenho do classificador usando pesos alatórios para a mesma tarefa de classificação e compare os resultados."
   ]
  },
  {
   "cell_type": "code",
   "execution_count": 391,
   "metadata": {
    "collapsed": true
   },
   "outputs": [],
   "source": [
    "def inicializacao_aleatoria():\n",
    "    W = np.random.rand(64,10) \n",
    "    b = np.random.rand(1, 10) \n",
    "    return W, b"
   ]
  },
  {
   "cell_type": "code",
   "execution_count": 392,
   "metadata": {
    "collapsed": false
   },
   "outputs": [
    {
     "name": "stdout",
     "output_type": "stream",
     "text": [
      "Number of images: 594 \n",
      "Number of errors: 23 \n",
      "Number of Hits: 571 \n",
      "Accuracy: 0.961279\n",
      "\n"
     ]
    },
    {
     "data": {
      "text/plain": [
       "0.9612794612794613"
      ]
     },
     "execution_count": 392,
     "metadata": {},
     "output_type": "execute_result"
    }
   ],
   "source": [
    "y_predito = predicao(X_teste, W, b)\n",
    "\n",
    "avaliar_resultados(y_teste, y_predito)"
   ]
  },
  {
   "cell_type": "code",
   "execution_count": 393,
   "metadata": {
    "collapsed": false
   },
   "outputs": [
    {
     "name": "stdout",
     "output_type": "stream",
     "text": [
      "Number of images: 594 \n",
      "Number of errors: 537 \n",
      "Number of Hits: 57 \n",
      "Accuracy: 0.095960\n",
      "\n"
     ]
    },
    {
     "data": {
      "text/plain": [
       "0.09595959595959595"
      ]
     },
     "execution_count": 393,
     "metadata": {},
     "output_type": "execute_result"
    }
   ],
   "source": [
    "W_rand, b_rand = inicializacao_aleatoria()\n",
    "y_rand_predito = predicao(X_teste, W_rand, b_rand)\n",
    "avaliar_resultados(y_teste, y_rand_predito)"
   ]
  },
  {
   "cell_type": "code",
   "execution_count": 394,
   "metadata": {
    "collapsed": false
   },
   "outputs": [
    {
     "name": "stdout",
     "output_type": "stream",
     "text": [
      "594\n",
      "Number of images: 594 \n",
      "Number of errors: 10 \n",
      "Number of Hits: 584 \n",
      "Accuracy: 0.983165\n",
      "\n",
      "Number of images: 594 \n",
      "Number of errors: 9 \n",
      "Number of Hits: 585 \n",
      "Accuracy: 0.984848\n",
      "\n"
     ]
    },
    {
     "data": {
      "text/plain": [
       "0.9848484848484849"
      ]
     },
     "execution_count": 394,
     "metadata": {},
     "output_type": "execute_result"
    }
   ],
   "source": [
    "class Knn:\n",
    "    def __init__(self):\n",
    "        pass\n",
    "    \n",
    "    def train(self, X_train, y_train):\n",
    "        self.X_train = X_train\n",
    "        self.y_train = y_train\n",
    "        \n",
    "        \n",
    "    def predict(self, X):\n",
    "        nb_test_instances = X.shape[0]\n",
    "        print nb_test_instances\n",
    "        \n",
    "        y_pred_l1 = np.zeros(nb_test_instances, dtype = self.y_train.dtype)\n",
    "        y_pred_l2 = np.zeros(nb_test_instances, dtype = self.y_train.dtype)\n",
    "        \n",
    "        for i in xrange(nb_test_instances):\n",
    "            distances_l1 = np.sum(np.abs(self.X_train - X[i]), axis = 1)\n",
    "            distances_l2 = np.sum(np.power(self.X_train - X[i],2), axis = 1)\n",
    "            \n",
    "            min_index_l1 = np.argmin(distances_l1)\n",
    "            min_index_l2 = np.argmin(distances_l2)\n",
    "            \n",
    "            y_pred_l1[i] = self.y_train[min_index_l1]\n",
    "            y_pred_l2[i] = self.y_train[min_index_l2]\n",
    "        \n",
    "        return y_pred_l1, y_pred_l2\n",
    "\n",
    "    def predict_k(self, X, k_size):\n",
    "        nb_test_instances = X.shape[0]\n",
    "        #print nb_test_instances\n",
    "        \n",
    "        y_pred_l1 = np.zeros(nb_test_instances, dtype = self.y_train.dtype)\n",
    "        y_pred_l2 = np.zeros(nb_test_instances, dtype = self.y_train.dtype)\n",
    "        \n",
    "        for i in xrange(nb_test_instances):\n",
    "            distances_l1 = np.sum(np.abs(self.X_train - X[i]), axis = 1)\n",
    "            distances_l2 = np.sum(np.power(self.X_train - X[i],2), axis = 1)\n",
    "            \n",
    "            min_index_l1 = sorted(range(len(distances_l1)), key=lambda k: distances_l1[k])[:k_size]\n",
    "            min_index_l2 = sorted(range(len(distances_l2)), key=lambda k: distances_l2[k])[:k_size]\n",
    "            \n",
    "            y_pred_l1[i] = np.argmax(np.bincount(self.y_train[min_index_l1]))\n",
    "            y_pred_l2[i] = np.argmax(np.bincount(self.y_train[min_index_l2]))\n",
    "            \n",
    "            \n",
    "        return y_pred_l1, y_pred_l2\n",
    "\n",
    "\n",
    "knn_classifier = Knn()\n",
    "knn_classifier.train(X_treino, y_treino)\n",
    "\n",
    "knn_prediction_l1, knn_prediction_l2 = knn_classifier.predict(X_teste)\n",
    "#print y_teste - knn_prediction\n",
    "\n",
    "avaliar_resultados(y_teste, knn_prediction_l1)\n",
    "\n",
    "#print knn_prediction_l1\n",
    "\n",
    "avaliar_resultados(y_teste, knn_prediction_l2)\n"
   ]
  },
  {
   "cell_type": "code",
   "execution_count": 395,
   "metadata": {
    "collapsed": false,
    "scrolled": true
   },
   "outputs": [
    {
     "name": "stdout",
     "output_type": "stream",
     "text": [
      "Number of images: 594 \n",
      "Number of errors: 9 \n",
      "Number of Hits: 585 \n",
      "Accuracy: 0.984848\n",
      "\n",
      "Number of images: 594 \n",
      "Number of errors: 4 \n",
      "Number of Hits: 590 \n",
      "Accuracy: 0.993266\n",
      "\n"
     ]
    },
    {
     "data": {
      "text/plain": [
       "0.9932659932659933"
      ]
     },
     "execution_count": 395,
     "metadata": {},
     "output_type": "execute_result"
    }
   ],
   "source": [
    "knn_prediction_l1, knn_prediction_l2 = knn_classifier.predict_k(X_teste, 5)\n",
    "\n",
    "\n",
    "\n",
    "avaliar_resultados(y_teste, knn_prediction_l1)\n",
    "avaliar_resultados(y_teste, knn_prediction_l2)"
   ]
  },
  {
   "cell_type": "code",
   "execution_count": 396,
   "metadata": {
    "collapsed": true
   },
   "outputs": [],
   "source": [
    "def log_progress(sequence, every=None, size=None):\n",
    "    from ipywidgets import IntProgress, HTML, VBox\n",
    "    from IPython.display import display\n",
    "\n",
    "    is_iterator = False\n",
    "    if size is None:\n",
    "        try:\n",
    "            size = len(sequence)\n",
    "        except TypeError:\n",
    "            is_iterator = True\n",
    "    if size is not None:\n",
    "        if every is None:\n",
    "            if size <= 200:\n",
    "                every = 1\n",
    "            else:\n",
    "                every = size / 200     # every 0.5%\n",
    "    else:\n",
    "        assert every is not None, 'sequence is iterator, set every'\n",
    "\n",
    "    if is_iterator:\n",
    "        progress = IntProgress(min=0, max=1, value=1)\n",
    "        progress.bar_style = 'info'\n",
    "    else:\n",
    "        progress = IntProgress(min=0, max=size, value=0)\n",
    "    label = HTML()\n",
    "    box = VBox(children=[label, progress])\n",
    "    display(box)\n",
    "\n",
    "    index = 0\n",
    "    try:\n",
    "        for index, record in enumerate(sequence, 1):\n",
    "            if index == 1 or index % every == 0:\n",
    "                if is_iterator:\n",
    "                    label.value = '{index} / ?'.format(index=index)\n",
    "                else:\n",
    "                    progress.value = index\n",
    "                    label.value = u'{index} / {size}'.format(\n",
    "                        index=index,\n",
    "                        size=size\n",
    "                    )\n",
    "            yield record\n",
    "    except:\n",
    "        progress.bar_style = 'danger'\n",
    "        raise\n",
    "    else:\n",
    "        progress.bar_style = 'success'\n",
    "        progress.value = index\n",
    "        label.value = str(index or '?')"
   ]
  },
  {
   "cell_type": "code",
   "execution_count": 400,
   "metadata": {
    "collapsed": false
   },
   "outputs": [],
   "source": [
    "def getKnnModels(X_treino, y_treino, X_teste, y_teste, n):\n",
    "    \n",
    "    knn_classifier = Knn()\n",
    "    knn_classifier.train(X_treino, y_treino)\n",
    "    results = np.zeros((n-1, 2))\n",
    "    \n",
    "    for i in log_progress(range(n)):\n",
    "        \n",
    "        if i!= 0:\n",
    "            l1_prediction, l2_prediction = knn_classifier.predict_k(X_teste, i)\n",
    "            results[i-1][0] = getAccuracy(y_teste, l1_prediction)\n",
    "            results[i-1][1] = getAccuracy(y_teste, l2_prediction)\n",
    "            \n",
    "    return results    "
   ]
  },
  {
   "cell_type": "markdown",
   "metadata": {},
   "source": [
    "models = getKnnModels(X_treino, y_treino, X_teste, y_teste, 5)\n"
   ]
  },
  {
   "cell_type": "code",
   "execution_count": 401,
   "metadata": {
    "collapsed": false
   },
   "outputs": [
    {
     "name": "stdout",
     "output_type": "stream",
     "text": [
      "[[ 0.98316498  0.98484848]\n",
      " [ 0.97979798  0.98484848]\n",
      " [ 0.98316498  0.98989899]\n",
      " [ 0.97979798  0.98821549]]\n"
     ]
    },
    {
     "data": {
      "text/plain": [
       "[<matplotlib.lines.Line2D at 0x7f7144ffc490>]"
      ]
     },
     "execution_count": 401,
     "metadata": {},
     "output_type": "execute_result"
    },
    {
     "data": {
      "image/png": "[encoded data removed]",
      "text/plain": [
       "<matplotlib.figure.Figure at 0x7f714527cf10>"
      ]
     },
     "metadata": {},
     "output_type": "display_data"
    }
   ],
   "source": [
    "print models\n",
    "\n",
    "plt.ylim([0.95,1])\n",
    "plt.plot([1, 2, 3, 4], models[:,0])\n",
    "plt.plot([1, 2, 3, 4], models[:,1])"
   ]
  }
 ],
 "metadata": {
  "kernelspec": {
   "display_name": "Python 2",
   "language": "python",
   "name": "python2"
  },
  "language_info": {
   "codemirror_mode": {
    "name": "ipython",
    "version": 2
   },
   "file_extension": ".py",
   "mimetype": "text/x-python",
   "name": "python",
   "nbconvert_exporter": "python",
   "pygments_lexer": "ipython2",
   "version": "2.7.11"
  }
 },
 "nbformat": 4,
 "nbformat_minor": 0
}
