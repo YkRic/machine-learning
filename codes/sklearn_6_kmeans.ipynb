{
 "cells": [
  {
   "cell_type": "markdown",
   "metadata": {},
   "source": [
    "# K-Means\n",
    "\n",
    "Este material diferencia-se do notebook anterior (learning_5), uma vez que este tem o foco de utilizar a biblioteca ***Scikit-Learn*** para a implementação do algoritmo K-Means.\n",
    "\n",
    "Parte da explicação sobre o algoritmo foi retirado do próprio site da biblioteca [***Scikit-Learn***](http://scikit-learn.org/stable/modules/clustering.html#k-means).\n",
    "\n",
    "**@autor: [Juarez Monteiro](https://jrzmnt.github.io).**\n",
    "\n",
    "---"
   ]
  },
  {
   "cell_type": "markdown",
   "metadata": {},
   "source": [
    "### K-Means\n",
    "\n",
    "O algoritmo K-Means agrupa dados tentando separar amostras em *n* grupos de variância igual, minimizando um critério conhecido como **inércia** ou **soma de quadrados** intra-grupo. \n",
    "Esse algoritmo requer que o número de grupos (*clusters*) seja especificado. \n",
    "Ele se adapta bem a um grande número de amostras e foi utilizado em uma grande variedade de áreas de aplicação em muitos campos diferentes.\n",
    "\n",
    "O algoritmo k-means divide um conjunto de $N$ amostras $X$ em $K$ clusters disjuntos, cada um descrito pela média $\\mu_j$ das amostras no cluster. Os **meios** são comumente chamados de ***“centróides”*** do cluster; note que eles não são, em geral, pontos de $X$, embora vivam no mesmo espaço. O algoritmo K-means visa escolher centróides que minimizem a inércia, ou o critério da soma quadrática intra-cluster:\n",
    "![img](http://scikit-learn.org/stable/_images/math/1886f2c69775746ac7b6c1cdd88c53c676839015.png \"K-Means Formula\")"
   ]
  },
  {
   "cell_type": "markdown",
   "metadata": {},
   "source": [
    "### Inércia\n",
    "\n",
    "A inércia, ou o critério de soma dos quadrados intra-cluster, pode ser reconhecido como uma medida de quão internamente coerentes são os clusters. \n",
    "\n",
    "Ela sofre de vários problemas:\n",
    "\n",
    "* A inércia pressupõe que os clusters são convexos e isotrópicos, o que nem sempre é o caso. Responde mal a aglomerados alongados, ou variedades com formas irregulares.\n",
    "* A inércia **não** é uma métrica normalizada: apenas sabemos que valores mais baixos são melhores e zero é o ideal. Mas em espaços de dimensões muito altas, as distâncias euclidianas tendem a se tornar infladas (este é um exemplo da chamada “maldição da dimensionalidade”). A execução de um algoritmo de redução de dimensionalidade, como o PCA antes do agrupamento k-means, pode aliviar esse problema e acelerar os cálculos"
   ]
  },
  {
   "attachments": {},
   "cell_type": "markdown",
   "metadata": {},
   "source": [
    "![img](http://scikit-learn.org/stable/_images/sphx_glr_plot_kmeans_assumptions_0011.png \"Exemplos de clusters\")"
   ]
  }
 ],
 "metadata": {
  "kernelspec": {
   "display_name": "Python 2",
   "language": "python",
   "name": "python2"
  },
  "language_info": {
   "codemirror_mode": {
    "name": "ipython",
    "version": 2
   },
   "file_extension": ".py",
   "mimetype": "text/x-python",
   "name": "python",
   "nbconvert_exporter": "python",
   "pygments_lexer": "ipython2",
   "version": "2.7.14"
  }
 },
 "nbformat": 4,
 "nbformat_minor": 2
}
