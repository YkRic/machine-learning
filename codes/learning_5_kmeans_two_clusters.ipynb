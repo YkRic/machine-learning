{
 "cells": [
  {
   "cell_type": "markdown",
   "metadata": {},
   "source": [
    "# K-Means\n",
    "\n",
    "### Algoritmo clássico de agrupamento particional\n",
    "* Defini-se o valor de **k**\n",
    "* Cada grupo é associado a um **centroid** (ponto central)\n",
    "* Cada objeto é atribuído ao grupo com centroid mais próximo\n",
    "* Algoritmo simples\n",
    "\n",
    "**@autor: [Juarez Monteiro](https://jrzmnt.github.io).**\n",
    "\n",
    "---"
   ]
  },
  {
   "cell_type": "markdown",
   "metadata": {},
   "source": [
    "### Observação sobre este Notebook\n",
    "\n",
    "Este material possui o foco em realizar um agrupamento através do algoritmo ***K-Means*** com o $k=2$ para a base abaixo, e utilizaremos os *centroids* $c1(3,1)$ e $c2(1,4)$. Para verificarmos a qualidade do processo, iremos calcular o ***SSE*** e o ***SSWC*** do agrupamento.\n",
    "\n",
    "\n",
    "| #      | $X$ | $Y$  |\n",
    "| -------|:---:| ----:|\n",
    "| 1)     | 1   |  1   |\n",
    "| 2)     | 1   |  2   |\n",
    "| 3)     | 2   |  1   |\n",
    "| 4)     | 3   |  2   |\n",
    "| 5)     | 3   |  4   |\n",
    "| 6)     | 4   |  4   |\n",
    "\n",
    "---"
   ]
  },
  {
   "cell_type": "markdown",
   "metadata": {},
   "source": [
    "### Primeiro iremos iniciar com os *imports* necessários\n",
    "* A lib Numpy para facilitar nossas futuras manipulações em estruturas de dados\n",
    "* E a Matplotlib para tornar nossos exemplos um pouco mais visuais"
   ]
  },
  {
   "cell_type": "code",
   "execution_count": 1,
   "metadata": {},
   "outputs": [],
   "source": [
    "import numpy as np\n",
    "import matplotlib.pyplot as plt"
   ]
  },
  {
   "cell_type": "markdown",
   "metadata": {},
   "source": [
    "---\n",
    "### Declarando as variáveis necessárias\n",
    "* Neste passo iremos declarar os pontos apresentados na base e os *centroids* iniciais"
   ]
  },
  {
   "cell_type": "code",
   "execution_count": 2,
   "metadata": {},
   "outputs": [],
   "source": [
    "x = np.array([1, 1, 2, 3, 3, 4]) # valores do atributo x para os objetos\n",
    "y = np.array([1, 2, 1, 2, 4, 4]) # valores do atributo y para os objetos\n",
    "c1 = np.array([3, 1]) # valores de x e y para o centroid 1\n",
    "c2 = np.array([1, 4]) # valores de x e y para o centroid 1"
   ]
  },
  {
   "cell_type": "markdown",
   "metadata": {},
   "source": [
    "---\n",
    "### Definindo a função de distância\n",
    "Conforme visto em aula, iremos calcular a similaridade através da ***distância Euclidiana***\n",
    "\n",
    "$$\n",
    "\\sqrt{\\sum_{i=1}^{n}(q_i - p_i)^2}\n",
    "$$\n",
    "\n",
    "*Onde $p$ e $q$ são pontos em um espaço Euclidiano de $n$ dimensões*"
   ]
  },
  {
   "cell_type": "code",
   "execution_count": 3,
   "metadata": {
    "scrolled": true
   },
   "outputs": [
    {
     "name": "stdout",
     "output_type": "stream",
     "text": [
      "Distância dos objetos para o Centroid 1: [2.         2.23606798 1.         1.         3.         3.16227766]\n",
      "Distância dos objetos para o Centroid 2: [3.         2.         3.16227766 2.82842712 2.         3.        ]\n"
     ]
    }
   ],
   "source": [
    "def distance_calc(x,y,c1,c2):\n",
    "    \n",
    "    dist_c1 = np.sqrt((x-c1[0])**2 + (y-c1[1])**2)\n",
    "    dist_c2 = np.sqrt((x-c2[0])**2 + (y-c2[1])**2)\n",
    "    \n",
    "    return dist_c1, dist_c2\n",
    "\n",
    "\n",
    "dist_c1, dist_c2 = distance_calc(x,y,c1,c2)\n",
    "print 'Distância dos objetos para o Centroid 1: %s' % dist_c1\n",
    "print 'Distância dos objetos para o Centroid 2: %s' % dist_c2"
   ]
  },
  {
   "cell_type": "markdown",
   "metadata": {},
   "source": [
    "---\n",
    "### Definindo a função para a escolha dos grupos\n",
    "* Para atribuirmos os objetos para um dos dois grupos (lembrando que $k=2$) nós devemos verificar a distância dos objetos aos centroids\n",
    "* Feito isso nós iremos atribuir os objetos ao grupo do centroid mais próximo a ele"
   ]
  },
  {
   "cell_type": "code",
   "execution_count": 4,
   "metadata": {},
   "outputs": [
    {
     "name": "stdout",
     "output_type": "stream",
     "text": [
      "Grupo 1: [0. 2. 3.]\n",
      "Grupo 2: [1. 4. 5.]\n"
     ]
    }
   ],
   "source": [
    "def choose_cluster(dist_c1, dist_c2):\n",
    "\n",
    "    cluster_1 = np.array([])\n",
    "    cluster_2 = np.array([])\n",
    "    \n",
    "    for i in range(len(x)):\n",
    "        if dist_c1[i] < dist_c2[i]:\n",
    "            cluster_1 = np.append(cluster_1, i)\n",
    "            \n",
    "        else:\n",
    "            cluster_2 = np.append(cluster_2, i)\n",
    "    \n",
    "    return cluster_1, cluster_2\n",
    "\n",
    "\n",
    "cluster_1, cluster_2 = choose_cluster(dist_c1, dist_c2)\n",
    "print('Grupo 1: %s' % cluster_1)\n",
    "print('Grupo 2: %s' % cluster_2)"
   ]
  },
  {
   "cell_type": "markdown",
   "metadata": {},
   "source": [
    "---\n",
    "### Recalculando os centroids...\n",
    "* Lembrando que para recalcular os centroids nós iremos fazer a média dos objetos para cada grupo"
   ]
  },
  {
   "cell_type": "code",
   "execution_count": 5,
   "metadata": {},
   "outputs": [
    {
     "name": "stdout",
     "output_type": "stream",
     "text": [
      "Novo Centroid 1: [2.         1.33333333]\n",
      "Novo Centroid 2: [2.66666667 3.33333333]\n"
     ]
    }
   ],
   "source": [
    "def recalc_centroids(cluster_1, cluster_2):\n",
    "    \n",
    "    new_c1 = np.array([np.average([x[int(i)] for i in cluster_1]), \n",
    "                       np.average([y[int(i)] for i in cluster_1])\n",
    "                      ])\n",
    "    \n",
    "    new_c2 = np.array([np.average([x[int(i)] for i in cluster_2]), \n",
    "                       np.average([y[int(i)] for i in cluster_2])\n",
    "                      ])\n",
    "\n",
    "    return new_c1, new_c2\n",
    "\n",
    "\n",
    "new_c1, new_c2 = recalc_centroids(cluster_1, cluster_2)\n",
    "print 'Novo Centroid 1: %s' % new_c1\n",
    "print 'Novo Centroid 2: %s' % new_c2"
   ]
  },
  {
   "cell_type": "markdown",
   "metadata": {},
   "source": [
    "---\n",
    "### Avaliando Agrupamentos com o SSE e o SSWC\n",
    "\n",
    "#### - SSE\n",
    "* Medida mais comum é a Soma dos Erros Quadráticos (SSE - *Sum of Squared Errors*)\n",
    "    * Para cada objeto, o erro é a distância ao grupo mais próximo\n",
    "    * Para calcular o SSE, elevamos os erros ao quadrado e os somamos<br><br>\n",
    "    $$\n",
    "    SSE=\\sum_{i=1}^{k}\\sum_{x \\in C_i}dist^2(m_i, x)\n",
    "    $$\n",
    "    <br>\n",
    "    *Onde $x$ é o objeto do grupo $C_i$ e $m_i$ é o centroid do grupo $C_i$*<br><br>\n",
    "    \n",
    "    * Com isso, dado dois agrupamentos, podemos escolher o de menos SSE\n",
    "        * Mas atenção! Apenas compare agrupamentos **de mesmo $k$**\n",
    "        \n",
    "    * Quanto **menor o SSE**, mais compactos (coesos) são os grupos, pois minimizar o SSE significa minimizar a variância intra-grupo!\n",
    "      \n",
    "#### - SSWC\n",
    "* Silhueta Simplificada (SSWC)\n",
    "\n",
    "$$\n",
    "s(i) = \\frac{b(i)-a(i)}{max\\{a(i),b(i)\\}}\n",
    "$$\n",
    "\n",
    "<br>\n",
    "\n",
    "$$\n",
    "SWC=\\frac{1}{N}\\sum_{i=1}^{N}s(i)\n",
    "$$\n",
    "\n",
    "* $a(i)$ e $b(i)$ são calculados como a distância do i-ésimo objeto ao centróide do cluster em questão\n",
    "    * $a(i)$ = dissimilaridade média do i-ésimo objeto ao seu cluster\n",
    "    * $b(i)$ = dissimilaridade média do i-ésimo objeto ao cluster do vizinho mais próximo <br><br>\n",
    "* Propriedade favorável: $SWC \\in [-1, +1]$\n"
   ]
  },
  {
   "cell_type": "code",
   "execution_count": 13,
   "metadata": {},
   "outputs": [
    {
     "name": "stdout",
     "output_type": "stream",
     "text": [
      "SSE: 4.25\n",
      "SSWC: 0.72\n"
     ]
    }
   ],
   "source": [
    "def sse_calc(dist_c1, dist_c2):\n",
    "    \n",
    "    sse = np.sum(np.minimum(dist_c1, dist_c2)**2)\n",
    "    return sse\n",
    "\n",
    "\n",
    "def sswc_calc(dist_c1, dist_c2):\n",
    "     \n",
    "    sswc = np.average(np.absolute((dist_c2-dist_c1))/np.maximum(dist_c1, dist_c2))\n",
    "    return sswc\n",
    "\n",
    "\n",
    "sse = sse_calc(dist_c1, dist_c2)\n",
    "sswc = sswc_calc(dist_c1, dist_c2)\n",
    "print('SSE: %.2f' % sse)\n",
    "print('SSWC: %.2f' % sswc)"
   ]
  },
  {
   "cell_type": "markdown",
   "metadata": {},
   "source": [
    "---\n",
    "### Definindo uma função para plot"
   ]
  },
  {
   "cell_type": "code",
   "execution_count": 7,
   "metadata": {},
   "outputs": [],
   "source": [
    "def plot_kmeans(x, y, cluster_1, cluster_2, c1, c2, iteration):\n",
    "    \n",
    "    plt.figure()\n",
    "    plt.plot([x[int(i)] for i in cluster_1], [y[int(i)] for i in cluster_1], 'ro', label='Group 1')\n",
    "    plt.plot([x[int(i)] for i in cluster_2], [y[int(i)] for i in cluster_2], 'go', label='Group 2')\n",
    "    plt.plot(c1[0], c1[1], 'b*', label='Centroids')\n",
    "    plt.plot(c2[0], c2[1], 'b*')\n",
    "    plt.annotate(\n",
    "        '(%.1f, %.1f)' % (c1[0], c1[1]),\n",
    "        xy=(c1[0], c1[1]), arrowprops=dict(arrowstyle='->'), xytext=(c1[0], c1[1]+0.3))\n",
    "        \n",
    "    plt.annotate(\n",
    "        '(%.1f, %.1f)' % (c2[0], c2[1]),\n",
    "        xy=(c2[0], c2[1]), arrowprops=dict(arrowstyle='->'), xytext=(c2[0], c2[1]-0.5))\n",
    "\n",
    "    plt.legend(bbox_to_anchor=(1.05, 1), loc=2, borderaxespad=0.)\n",
    "    \n",
    "    plt.title('Iteration %i' %iteration)"
   ]
  },
  {
   "cell_type": "markdown",
   "metadata": {},
   "source": [
    "---\n",
    "### Pronto, agora é só repetir até o algoritmo convergir!\n",
    "* Em outras palavras até os centroids não mudarem mais"
   ]
  },
  {
   "cell_type": "code",
   "execution_count": 22,
   "metadata": {},
   "outputs": [
    {
     "name": "stdout",
     "output_type": "stream",
     "text": [
      "Iteration 1\n",
      "Iteration 2\n",
      "Iteration 3\n",
      "---\n",
      "Stoped in iteration 3\n"
     ]
    },
    {
     "data": {
      "image/png": "[encoded data removed]",
      "text/plain": [
       "<matplotlib.figure.Figure at 0x7ff53b37cc90>"
      ]
     },
     "metadata": {},
     "output_type": "display_data"
    },
    {
     "data": {
      "image/png": "[encoded data removed]",
      "text/plain": [
       "<matplotlib.figure.Figure at 0x7ff53b581f90>"
      ]
     },
     "metadata": {},
     "output_type": "display_data"
    },
    {
     "data": {
      "image/png": "[encoded data removed]",
      "text/plain": [
       "<matplotlib.figure.Figure at 0x7ff53b757750>"
      ]
     },
     "metadata": {},
     "output_type": "display_data"
    }
   ],
   "source": [
    "x = np.array([1, 1, 2, 3, 3, 4]) # valores do atributo x para os objetos\n",
    "y = np.array([1, 2, 1, 2, 4, 4]) # valores do atributo y para os objetos\n",
    "c1 = np.array([3, 1]) # valores de x e y para o centroid 1\n",
    "c2 = np.array([1, 4]) # valores de x e y para o centroid 1\n",
    "i = 0\n",
    "\n",
    "while True:\n",
    "    print('Iteration %i' % (i+1))\n",
    "    \n",
    "    dist_c1, dist_c2 = distance_calc(x,y,c1,c2)\n",
    "    cluster_1, cluster_2 = choose_cluster(dist_c1, dist_c2)\n",
    "    new_c1, new_c2 = recalc_centroids(cluster_1, cluster_2)\n",
    "    \n",
    "    i+=1\n",
    "    \n",
    "    sse = sse_calc(dist_c1, dist_c2)\n",
    "    sswc = sswc_calc(dist_c1, dist_c2)\n",
    "    \n",
    "    plot_kmeans(x, y, cluster_1, cluster_2, c1, c2, i)\n",
    "    \n",
    "    if np.array_equal(c1,new_c1) and np.array_equal(c2,new_c2):\n",
    "        print('---')\n",
    "        print('Stoped in iteration %i' %i)\n",
    "        break\n",
    "    \n",
    "    \n",
    "    \n",
    "    c1, c2 = new_c1, new_c2"
   ]
  }
 ],
 "metadata": {
  "kernelspec": {
   "display_name": "Python 2",
   "language": "python",
   "name": "python2"
  },
  "language_info": {
   "codemirror_mode": {
    "name": "ipython",
    "version": 2
   },
   "file_extension": ".py",
   "mimetype": "text/x-python",
   "name": "python",
   "nbconvert_exporter": "python",
   "pygments_lexer": "ipython2",
   "version": "2.7.14"
  }
 },
 "nbformat": 4,
 "nbformat_minor": 2
}
