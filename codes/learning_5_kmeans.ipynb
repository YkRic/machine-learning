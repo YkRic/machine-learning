{
 "cells": [
  {
   "cell_type": "code",
   "execution_count": 146,
   "metadata": {},
   "outputs": [],
   "source": [
    "import numpy as np\n",
    "import matplotlib.pyplot as plt"
   ]
  },
  {
   "cell_type": "markdown",
   "metadata": {},
   "source": [
    "Execute o k-means com k=2 para a seguinte base. \n",
    "Após, calcule o SSE e o SSWC do agrupamento."
   ]
  },
  {
   "cell_type": "code",
   "execution_count": 202,
   "metadata": {},
   "outputs": [],
   "source": [
    "def distance_calc(x,y,c1,c2):\n",
    "\n",
    "    dist_c1 = np.sqrt((x-c1[0])**2 + (y-c1[1])**2)\n",
    "    dist_c2 = np.sqrt((x-c2[0])**2 + (y-c2[1])**2)\n",
    "    \n",
    "    return dist_c1, dist_c2\n",
    "\n",
    "\n",
    "def choose_cluster(dist_c1, dist_c2):\n",
    "\n",
    "    cluster_1 = np.array([])\n",
    "    cluster_2 = np.array([])\n",
    "    \n",
    "    for i in range(len(x)):\n",
    "        \n",
    "        if dist_c1[i] < dist_c2[i]:\n",
    "            cluster_1 = np.append(cluster_1, i)\n",
    "        else:\n",
    "            cluster_2 = np.append(cluster_2, i)\n",
    "\n",
    "    print('cluster 1: %s' % cluster_1)\n",
    "    print('cluster 2: %s' % cluster_2)\n",
    "    print('')\n",
    "    return cluster_1, cluster_2\n",
    "\n",
    "\n",
    "def new_cluster(cluster_1, cluster_2):\n",
    "    \n",
    "    new_c1 = np.array([np.average([x[int(i)] for i in cluster_1]), np.average([y[int(i)] for i in cluster_1])])\n",
    "    new_c2 = np.array([np.average([x[int(i)] for i in cluster_2]), np.average([y[int(i)] for i in cluster_2])])\n",
    "    \n",
    "    print('new centroid 1: %s' % new_c1)\n",
    "    print('new centroid 2: %s' % new_c2)\n",
    "    print('-------------------')\n",
    "    return new_c1, new_c2\n",
    "\n",
    "\n",
    "def sse_calc(dist_c1, dist_c2):\n",
    "    \n",
    "    sse = np.sum(np.minimum(dist_c1, dist_c2)**2)\n",
    "    print('SSE:%.2f' % sse)\n",
    "    return sse\n",
    "\n",
    "\n",
    "def sswc_calc(dist_c1, dist_c2):\n",
    "     \n",
    "    sswc = np.average(np.absolute((dist_c2-dist_c1))/np.maximum(dist_c1, dist_c2))\n",
    "    print('SSWC:%.2f' % sswc)\n",
    "    return sswc"
   ]
  },
  {
   "cell_type": "code",
   "execution_count": 203,
   "metadata": {
    "scrolled": false
   },
   "outputs": [
    {
     "name": "stdout",
     "output_type": "stream",
     "text": [
      "iteraction 0\n",
      "cluster 1: [0. 2. 3.]\n",
      "cluster 2: [1. 4. 5.]\n",
      "\n",
      "new centroid 1: [2.         1.33333333]\n",
      "new centroid 2: [2.66666667 3.33333333]\n",
      "-------------------\n",
      "SSE:23.00\n",
      "SSWC:0.36\n",
      "iteraction 1\n",
      "cluster 1: [0. 1. 2. 3.]\n",
      "cluster 2: [4. 5.]\n",
      "\n",
      "new centroid 1: [1.75 1.5 ]\n",
      "new centroid 2: [3.5 4. ]\n",
      "-------------------\n",
      "SSE:6.89\n",
      "SSWC:0.56\n",
      "iteraction 2\n",
      "cluster 1: [0. 1. 2. 3.]\n",
      "cluster 2: [4. 5.]\n",
      "\n",
      "new centroid 1: [1.75 1.5 ]\n",
      "new centroid 2: [3.5 4. ]\n",
      "-------------------\n",
      "SSE:4.25\n",
      "SSWC:0.72\n",
      "Stoped in iteraction 3\n"
     ]
    },
    {
     "data": {
      "image/png": "[encoded data removed]",
      "text/plain": [
       "<matplotlib.figure.Figure at 0x7fb596462610>"
      ]
     },
     "metadata": {},
     "output_type": "display_data"
    },
    {
     "data": {
      "image/png": "[encoded data removed]",
      "text/plain": [
       "<matplotlib.figure.Figure at 0x7fb595f10dd0>"
      ]
     },
     "metadata": {},
     "output_type": "display_data"
    },
    {
     "data": {
      "image/png": "[encoded data removed]",
      "text/plain": [
       "<matplotlib.figure.Figure at 0x7fb595d949d0>"
      ]
     },
     "metadata": {},
     "output_type": "display_data"
    }
   ],
   "source": [
    "x = np.array([1,1,2,3,3,4])\n",
    "y = np.array([1,2,1,2,4,4])\n",
    "c1 = np.array([3,1])\n",
    "c2 = np.array([1,4])\n",
    "i = 0\n",
    "\n",
    "while True:\n",
    "    print('iteraction %i' %i)\n",
    "    \n",
    "    plt.figure()\n",
    "    plt.plot(x, y, 'ro')\n",
    "    plt.plot(c1[0], c1[1], 'bo')\n",
    "    plt.plot(c2[0], c2[1], 'bo')\n",
    "    plt.title('iteraction %i' %i)\n",
    "    \n",
    "    dist_c1, dist_c2 = distance_calc(x,y,c1,c2)\n",
    "    cluster_1, cluster_2 = choose_cluster(dist_c1, dist_c2)\n",
    "    new_c1, new_c2 = new_cluster(cluster_1, cluster_2)\n",
    "    \n",
    "    i+=1\n",
    "    \n",
    "    sse = sse_calc(dist_c1, dist_c2)\n",
    "    sswc = sswc_calc(dist_c1, dist_c2)\n",
    "    \n",
    "    if np.array_equal(c1,new_c1) and np.array_equal(c2,new_c2):\n",
    "        print('Stoped in iteraction %i' %i)\n",
    "        break\n",
    "    \n",
    "    c1, c2 = new_c1, new_c2"
   ]
  },
  {
   "cell_type": "code",
   "execution_count": null,
   "metadata": {},
   "outputs": [],
   "source": []
  }
 ],
 "metadata": {
  "kernelspec": {
   "display_name": "Python 2",
   "language": "python",
   "name": "python2"
  },
  "language_info": {
   "codemirror_mode": {
    "name": "ipython",
    "version": 2
   },
   "file_extension": ".py",
   "mimetype": "text/x-python",
   "name": "python",
   "nbconvert_exporter": "python",
   "pygments_lexer": "ipython2",
   "version": "2.7.14"
  }
 },
 "nbformat": 4,
 "nbformat_minor": 2
}
