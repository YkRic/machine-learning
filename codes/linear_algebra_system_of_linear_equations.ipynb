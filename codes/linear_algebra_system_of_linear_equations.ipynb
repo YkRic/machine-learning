{
 "cells": [
  {
   "cell_type": "markdown",
   "metadata": {},
   "source": [
    "# #2.2 Linear Algebra\n",
    "\n",
    "## System of Linear Equations\n",
    "\n",
    "\n",
    "This notebook and the others from this series focus on review important concepts of Linear Algebra, such knowledge are very important to understand further Deep Learning concepts.\n",
    "This material is the same available By Hadrien Jean in [KDnuggets](https://www.kdnuggets.com/2018/05/boost-data-science-skills-learn-linear-algebra.html).\n",
    "\n",
    "\n",
    "*This content is also part of a series following the chapter 2 on linear algebra from the Deep Learning Book by Goodfellow, I., Bengio, Y., and Courville, A.*\n",
    "\n",
    "\n",
    "**@notebook_author: [Juarez Monteiro](https://jrzmnt.github.io).**\n",
    "\n",
    "---"
   ]
  },
  {
   "cell_type": "markdown",
   "metadata": {},
   "source": [
    "# System of Linear Equations"
   ]
  },
  {
   "cell_type": "markdown",
   "metadata": {},
   "source": [
    "This is an important part of why linear algebra can be very useful to solve variety of problems. Here we will see that it can be use to represent system of equations.\n",
    "\n",
    "A system of equations is a set of multiple equations (at least 1). For instance we could have:"
   ]
  },
  {
   "cell_type": "markdown",
   "metadata": {},
   "source": [
    "$$\n",
    "\\begin{cases}\n",
    "y = 2x + 1 \\\\\\\\\n",
    "y = \\frac{7}{2}x +3\n",
    "\\end{cases}\n",
    "$$"
   ]
  },
  {
   "cell_type": "markdown",
   "metadata": {},
   "source": [
    "$$\n",
    "A=\n",
    "\\begin{bmatrix}\n",
    "    A_{1,1} & A_{1,2} & \\cdots & A_{1,n} \\\\\\\\\n",
    "    A_{2,1} & A_{2,2} & \\cdots & A_{2,n} \\\\\\\\\n",
    "    \\cdots & \\cdots & \\cdots & \\cdots \\\\\\\\\n",
    "    A_{m,1} & A_{m,2} & \\cdots & A_{m,n}\n",
    "\\end{bmatrix}\n",
    "$$"
   ]
  }
 ],
 "metadata": {
  "kernelspec": {
   "display_name": "Python 2",
   "language": "python",
   "name": "python2"
  },
  "language_info": {
   "codemirror_mode": {
    "name": "ipython",
    "version": 2
   },
   "file_extension": ".py",
   "mimetype": "text/x-python",
   "name": "python",
   "nbconvert_exporter": "python",
   "pygments_lexer": "ipython2",
   "version": "2.7.14"
  }
 },
 "nbformat": 4,
 "nbformat_minor": 2
}
