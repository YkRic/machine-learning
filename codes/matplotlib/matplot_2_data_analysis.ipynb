{
 "cells": [
  {
   "cell_type": "markdown",
   "metadata": {},
   "source": [
    "# Notebook Aula 2 - Análise e Pré-Processamento de Dados\n",
    "## Parte 1: Análise Exploratória de Dados\n",
    "\n",
    "@Juarez_Monteiro"
   ]
  },
  {
   "cell_type": "markdown",
   "metadata": {},
   "source": [
    "# Medidas de Localidade\n",
    "\n",
    "* Dados categóricos\n",
    "    * Moda\n",
    "    \n",
    "* Dados numéricos\n",
    "    * Média\n",
    "    * Mediana\n",
    "    * Percentil"
   ]
  },
  {
   "cell_type": "code",
   "execution_count": 1,
   "metadata": {},
   "outputs": [],
   "source": [
    "import numpy as np\n",
    "import matplotlib.pyplot as plt\n",
    "%matplotlib inline\n",
    "from scipy.stats import mode\n",
    "from scipy.stats import skew\n",
    "from scipy.stats import kurtosis"
   ]
  },
  {
   "cell_type": "markdown",
   "metadata": {},
   "source": [
    "### Frequência\n",
    "* Proporção de vezes que determinada categoria acontece em um atributo categórico"
   ]
  },
  {
   "cell_type": "code",
   "execution_count": 2,
   "metadata": {},
   "outputs": [
    {
     "name": "stdout",
     "output_type": "stream",
     "text": [
      "Frequência da categoria \"Grande\" é 0.667\n"
     ]
    }
   ],
   "source": [
    "mancha = np.array(['grande', 'pequena', 'grande', 'pequena', 'grande', 'grande'])\n",
    "\n",
    "# Calcula a frequencia da categoria grande no atributo 'mancha'\n",
    "frequencia = ((mancha == 'grande').sum() / float(mancha.size))\n",
    "\n",
    "print 'Frequência da categoria \"Grande\" é %.3f' % frequencia"
   ]
  },
  {
   "cell_type": "markdown",
   "metadata": {},
   "source": [
    "### ** Moda **\n",
    "* Valor que ocorre com maior frequência em um conjunto de dados."
   ]
  },
  {
   "cell_type": "code",
   "execution_count": 3,
   "metadata": {},
   "outputs": [
    {
     "name": "stdout",
     "output_type": "stream",
     "text": [
      "A moda é a categoria \"grande\". Quantidade de vezes que ocorre: 4\n"
     ]
    },
    {
     "name": "stderr",
     "output_type": "stream",
     "text": [
      "/home/juarez/anaconda2/lib/python2.7/site-packages/scipy/stats/stats.py:245: RuntimeWarning: The input array could not be properly checked for nan values. nan values will be ignored.\n",
      "  \"values. nan values will be ignored.\", RuntimeWarning)\n"
     ]
    }
   ],
   "source": [
    "mancha = np.array(['grande', 'pequena', 'grande', 'pequena', 'grande', 'grande'])\n",
    "\n",
    "# Calcula a moda do array.\n",
    "# Retorna a moda e quantidade de vezes correspondente.\n",
    "moda, qtd = mode(mancha)\n",
    "\n",
    "print 'A moda é a categoria \"{}\". Quantidade de vezes que ocorre: {}'.format(moda[0], qtd[0])"
   ]
  },
  {
   "cell_type": "markdown",
   "metadata": {},
   "source": [
    "### **Média**\n",
    "1. Pode ser calculada facilmente;\n",
    "2. Problema: sensível a outliers;\n",
    "3. É bom indicador do centro do conjunto de valores quando estes estão distribuídos simetricamente.\n",
    "\n",
    "### **Mediana**\n",
    "1. Menos sensível a outliers que a média;\n",
    "2. Necessário ordernar valores;\n",
    "3. Complexidade pior que linear no pior caso;\n",
    "4. Indica melhor centro\n",
    "    5. Se distribuição é oblíqua (assimétrica, _skewed_);\n",
    "    6. Se existem _outliers_."
   ]
  },
  {
   "cell_type": "code",
   "execution_count": 4,
   "metadata": {},
   "outputs": [
    {
     "name": "stdout",
     "output_type": "stream",
     "text": [
      "A média das idades é 39.20 e a mediana é 22.00\n"
     ]
    }
   ],
   "source": [
    "idade = np.array([23, 20, 22, 21, 110])\n",
    "\n",
    "# Calcula a média do array.\n",
    "media = idade.mean()\n",
    "\n",
    "# Calcula a mediana do array.\n",
    "mediana = np.median(idade)\n",
    "\n",
    "print 'A média das idades é {0:.2f} e a mediana é {1:.2f}'.format(media, mediana)"
   ]
  },
  {
   "cell_type": "markdown",
   "metadata": {},
   "source": [
    "### ** Média Podada **\n",
    "1. _Trimmed mean_;\n",
    "2. Minimiza problema da média descartando valores dos extremos\n",
    "    3. Dados são ordenados;\n",
    "    4. Elimina *p%* dos valores em cada extremidade."
   ]
  },
  {
   "cell_type": "code",
   "execution_count": 5,
   "metadata": {},
   "outputs": [
    {
     "name": "stdout",
     "output_type": "stream",
     "text": [
      "3.0\n"
     ]
    }
   ],
   "source": [
    "from scipy.stats import trim_mean\n",
    "\n",
    "x = np.array([1, 2, 3, 4, 5])\n",
    "\n",
    "# Eliminar 20% (0.2) dos valores em cada extremidade\n",
    "media_podada = trim_mean(x, 0.2)\n",
    "\n",
    "print media_podada"
   ]
  },
  {
   "cell_type": "markdown",
   "metadata": {},
   "source": [
    "### ** Percentil **\n",
    "1. O pº percentil é o valor observado tal que p% dos valores \n",
    "da amostra são menores que ele"
   ]
  },
  {
   "cell_type": "code",
   "execution_count": 6,
   "metadata": {},
   "outputs": [
    {
     "name": "stdout",
     "output_type": "stream",
     "text": [
      "P50% = 3.0\n"
     ]
    }
   ],
   "source": [
    "x = np.array([1, 2, 3, 4, 5])\n",
    "\n",
    "# Percentil 50% (mediana)\n",
    "p50 = np.percentile(x,50)\n",
    "\n",
    "print 'P50% = {}'.format(p50)"
   ]
  },
  {
   "cell_type": "code",
   "execution_count": 7,
   "metadata": {},
   "outputs": [
    {
     "data": {
      "text/plain": [
       "[]"
      ]
     },
     "execution_count": 7,
     "metadata": {},
     "output_type": "execute_result"
    },
    {
     "data": {
      "image/png": "[encoded data removed]",
      "text/plain": [
       "<matplotlib.figure.Figure at 0x7fdd2211a090>"
      ]
     },
     "metadata": {},
     "output_type": "display_data"
    }
   ],
   "source": [
    "x = np.array([1, 2, 3, 4, 5])\n",
    "\n",
    "#Boxplot\n",
    "plt.boxplot(x)\n",
    "plt.plot()"
   ]
  },
  {
   "cell_type": "markdown",
   "metadata": {},
   "source": [
    "# Medidas de Espalhamento\n",
    "\n",
    "* Medem a dispersão (ou grau de espalhamento) de um conjunto de valores;\n",
    "* Indicam se um atributo está\n",
    "    * Amplamente espalhado;\n",
    "    * Relativamente concentrado em torno de um ponto (ex. média).\n",
    "    \n",
    "* Medidas comuns\n",
    "    * Intervalo;\n",
    "    * Variância;\n",
    "    * Desvio padrão.\n"
   ]
  },
  {
   "cell_type": "markdown",
   "metadata": {},
   "source": [
    "### ** Intervalo **\n",
    "1. Medida simples;\n",
    "2. Calcula o espalhamento máximo\n",
    "3. Sejam {_x(1),..., x(n)_} os valores de _**x**_ para _N_ objetos: _r(**x**) = max(**x**) - min(**x**)_\n",
    "4. **Atenção**: pode ser má ideia!\n",
    "    5. Valores concentrados ao redor de um ponto, porém com alguns poucos valores extremos."
   ]
  },
  {
   "cell_type": "code",
   "execution_count": 8,
   "metadata": {
    "scrolled": true
   },
   "outputs": [
    {
     "name": "stdout",
     "output_type": "stream",
     "text": [
      "Intervalo 1: 25.87\n",
      "Intervalo 2: 1278.80\n"
     ]
    }
   ],
   "source": [
    "xi = np.array([3.20, 11.70, 13.64, 15.60, 15.89, 28.44, 29.07])\n",
    "intervalo1 = xi.max() - xi.min()\n",
    "\n",
    "print 'Intervalo 1: {0:.2f}'.format(intervalo1)\n",
    "\n",
    "\n",
    "xj = np.array([3.20, 11.70, 13.64, 15.60, 15.89, 28.44, 29.07, 0.1, 1278.9])\n",
    "intervalo2 = xj.max() - xj.min()\n",
    "\n",
    "print 'Intervalo 2: {0:.2f}'.format(intervalo2)"
   ]
  },
  {
   "cell_type": "markdown",
   "metadata": {},
   "source": [
    "### ** Variância ($\\sigma^2$) **\n",
    "1. Medida **preferida** para análise de espalhamento\n",
    "2. Denominador _(N-1)_: correção de Bessel, usada para uma melhor estimativa de verdadeira variância;\n",
    "3. **Segundo momento central**;\n",
    "4. Desvio padrão ($\\sigma$): raiz quadrada da variância."
   ]
  },
  {
   "cell_type": "code",
   "execution_count": 9,
   "metadata": {
    "scrolled": true
   },
   "outputs": [
    {
     "name": "stdout",
     "output_type": "stream",
     "text": [
      "Variância pela fórmula:          84.88\n",
      "Variância numpy:                 84.88\n",
      "Variância numpy sem correção:    72.75\n",
      "Desvio padrão pela fórmula:       9.21\n",
      "Desvio padrão numpy:              9.21\n",
      "Desvio padrão numpy sem correção: 8.53\n"
     ]
    }
   ],
   "source": [
    "x = np.array([3.20, 11.70, 13.64, 15.60, 15.89, 28.44, 29.07])\n",
    "\n",
    "# Calculando a variância pela fórmula (com correção de Bessel)\n",
    "variance = ((x - x.mean())**2).sum() / float(x.size - 1)\n",
    "\n",
    "# Calculando a variância com o numpy (com correção de Bessel)\n",
    "variance1 = x.var(ddof=1)\n",
    "\n",
    "# Calculando a variância com o numpy (sem correção de Bessel)\n",
    "variance2 = x.var()\n",
    "\n",
    "# Desvio padrão pela fórmula\n",
    "desvio = np.sqrt(variance)\n",
    "\n",
    "# Calculando o desvio padrão com o numpy (com correção de Bessel)\n",
    "desvio1 = x.std(ddof=1)\n",
    "\n",
    "# Calculando o desvio padrão com o numpy (sem correção de Bessel)\n",
    "desvio2 = x.std()\n",
    "\n",
    "print 'Variância pela fórmula: {:>14.2f}'.format(variance)\n",
    "print 'Variância numpy: {:>21.2f}'.format(variance1)\n",
    "print 'Variância numpy sem correção: {:>8.2f}'.format(variance2)\n",
    "print 'Desvio padrão pela fórmula: {:>10.2f}'.format(desvio)\n",
    "print 'Desvio padrão numpy: {:>17.2f}'.format(desvio1)\n",
    "print 'Desvio padrão numpy sem correção: {:.2f}'.format(desvio2)\n"
   ]
  },
  {
   "cell_type": "markdown",
   "metadata": {},
   "source": [
    "### ** Obliquidade ($\\gamma$) **\n",
    "1. _Skewness_\n",
    "    2. Mede a **simetria da distribuição** em torno da média\n",
    "    3. Divisão por ($\\sigma^3$) torna medida independente de escala\n",
    "    4. **Terceiro momento central padronizado**"
   ]
  },
  {
   "cell_type": "code",
   "execution_count": 10,
   "metadata": {},
   "outputs": [
    {
     "name": "stdout",
     "output_type": "stream",
     "text": [
      "Obliquidade (sem correção):  0.174\n",
      "Obliquidade com scipy.stats: 0.174\n"
     ]
    }
   ],
   "source": [
    "x = np.array([3.20, 11.70, 13.64, 15.60, 15.89, 28.44, 29.07])\n",
    "\n",
    "media = x.mean()\n",
    "desvio = x.std()\n",
    "skewness = ((x - media)**3).sum() / float(x.size )\n",
    "skewness = skewness / float(desvio**3)\n",
    "\n",
    "# Calculando a obliquidade\n",
    "# from scipy.stats import skew\n",
    "oblq = skew(x, bias=True)\n",
    "\n",
    "print 'Obliquidade (sem correção): {:>6.3f}'.format(skewness)\n",
    "print 'Obliquidade com scipy.stats: {:.3f}'.format(oblq)"
   ]
  },
  {
   "cell_type": "markdown",
   "metadata": {},
   "source": [
    "### ** Curtose ($\\beta$) **\n",
    "1. _Kurtosis_\n",
    "    2. Mede a **formato (achatamento) da distribuição**\n",
    "    3. **Quarto momento central** padronizado;\n",
    "    4. Valor de $\\beta(x)=3$ para distribuição normal padrão;\n",
    "    5. Portanto, é comum subtrair $\\beta(x)$ de 3 para que a distribuição normal padrão tenha $\\beta(x) =0$"
   ]
  },
  {
   "cell_type": "code",
   "execution_count": 11,
   "metadata": {},
   "outputs": [
    {
     "name": "stdout",
     "output_type": "stream",
     "text": [
      "Curtose sem correção:                         2.05\n",
      "Curtose com scipy (sem subtração de Fisher):  2.05\n",
      "Curtose com scipy (com subtração de Fisher): -0.95\n"
     ]
    }
   ],
   "source": [
    "x = np.array([3.20, 11.70, 13.64, 15.60, 15.89, 28.44, 29.07])\n",
    "\n",
    "media = x.mean()\n",
    "desvio = x.std()\n",
    "curt = ((x - media)**4).sum() / float(x.size)\n",
    "curt = curt / float(desvio**4)\n",
    "\n",
    "# Calculando a curtose\n",
    "# from scipy.stats import kurtosis\n",
    "curtose = kurtosis(x, fisher=False)\n",
    "curtose2 = kurtosis(x, fisher=True)\n",
    "\n",
    "print 'Curtose sem correção: {:>28.2f}'.format(curt)\n",
    "print 'Curtose com scipy (sem subtração de Fisher): {:>5.2f}'.format(curtose)\n",
    "print 'Curtose com scipy (com subtração de Fisher): {:.2f}'.format(curtose2)"
   ]
  },
  {
   "cell_type": "markdown",
   "metadata": {},
   "source": [
    "# Dados Multivariados\n",
    "\n",
    "* Medidas de espalhamento\n",
    "    * Calculadas por atributo, de maneira independente;\n",
    "        * Qualquer uma das medidas;\n",
    "        \n",
    "        \n",
    "* Variáveis contínuas\n",
    "    * Espalhamento do dataset pode ser capturado por uma **matriz de covariância**;\n",
    "        * Cada elemento é a covariância do par de atributos;\n",
    " \n",
    " \n",
    "* Covariância de dois atributos\n",
    "    * Mede o grau com que os atributos variam juntos;\n",
    "    * Covariância não indica com clareza o relacionamento entre os pares de atributos;\n",
    "        * Sugestão é utilizar **correlação**;\n",
    "            * Indica **relacionamento linear** entre 2 variáveis;\n",
    "            * É preferível para explorar dados do que covariância;"
   ]
  },
  {
   "cell_type": "code",
   "execution_count": 12,
   "metadata": {},
   "outputs": [
    {
     "name": "stdout",
     "output_type": "stream",
     "text": [
      "Dados: \n",
      "[[0 4]\n",
      " [1 3]\n",
      " [2 2]\n",
      " [3 1]\n",
      " [4 0]] \n",
      "\n",
      "Matriz de covariância:\n",
      "[[ 2.5 -2.5]\n",
      " [-2.5  2.5]]\n",
      "\n",
      "[[ 2.5 -2.5]\n",
      " [-2.5  2.5]]\n"
     ]
    }
   ],
   "source": [
    "# 4 instancias com 2 atributos cada (x0, x1)\n",
    "x = np.array([[0, 4], [1, 3], [2, 2], [3, 1], [4,0]])\n",
    "\n",
    "# Visualizar 4 instâncias\n",
    "print 'Dados: \\n', x, '\\n'\n",
    "\n",
    "# Calcular matriz pela fórmula \n",
    "# Note que no numpy, vetores são \"linha\" por definição\n",
    "media = x.mean(axis=0)\n",
    "matriz_cov = (x - media).T.dot((x-media)) / float(x.shape[0] - 1)\n",
    "\n",
    "# Calcular matriz via numpy (note que a correção de Bessel é default)\n",
    "cov_matrix = np.cov(x, rowvar=False)\n",
    "\n",
    "print 'Matriz de covariância:'\n",
    "print matriz_cov\n",
    "print ''\n",
    "print cov_matrix"
   ]
  },
  {
   "cell_type": "code",
   "execution_count": 13,
   "metadata": {
    "scrolled": true
   },
   "outputs": [
    {
     "name": "stdout",
     "output_type": "stream",
     "text": [
      "0.996\n",
      "\n",
      "[[1.         0.99646528]\n",
      " [0.99646528 1.        ]]\n"
     ]
    }
   ],
   "source": [
    "from scipy.stats.stats import pearsonr\n",
    "\n",
    "a = np.array([900, 1000, 2000, 3000, 4000, 5000, 6000, 7000, 8000, 9000])\n",
    "b = np.array([0.6, 0.7, 0.8, 0.9, 1, 1.1, 1.2, 1.3, 1.4, 1.5])\n",
    "\n",
    "# Correlação de Pearson entre a e b (scipy)\n",
    "pearson, p_value = pearsonr(a,b)\n",
    "print '{:.3f}'.format(pearson)\n",
    "print ''\n",
    "\n",
    "# Matriz de correlação com o numpy\n",
    "correlacao = np.corrcoef(a,b, rowvar=False)\n",
    "print correlacao"
   ]
  },
  {
   "cell_type": "code",
   "execution_count": 14,
   "metadata": {
    "scrolled": false
   },
   "outputs": [
    {
     "data": {
      "text/plain": [
       "<matplotlib.image.AxesImage at 0x7fdd15cfc650>"
      ]
     },
     "execution_count": 14,
     "metadata": {},
     "output_type": "execute_result"
    },
    {
     "data": {
      "image/png": "[encoded data removed]",
      "text/plain": [
       "<matplotlib.figure.Figure at 0x7fdd19b1ead0>"
      ]
     },
     "metadata": {},
     "output_type": "display_data"
    }
   ],
   "source": [
    "# http://scikit-learn.org/stable/modules/generated/sklearn.datasets.load_iris.html#sklearn.datasets.load_iris\n",
    "from sklearn.datasets import load_iris\n",
    "\n",
    "data = load_iris()\n",
    "corr = np.corrcoef(data.values()[1])\n",
    "plt.imshow(corr, cmap='Blues')"
   ]
  },
  {
   "cell_type": "code",
   "execution_count": 15,
   "metadata": {},
   "outputs": [],
   "source": [
    "# Criando função para plotar o dataset abalone\n",
    "\n",
    "def correlation_matrix(df):\n",
    "    from matplotlib import pyplot as plt\n",
    "    from matplotlib import cm as cm\n",
    "\n",
    "    fig = plt.figure()\n",
    "    ax1 = fig.add_subplot(111)\n",
    "    cmap = cm.get_cmap('plasma', 30)\n",
    "    cax = ax1.imshow(df.corr(method='pearson'), interpolation=\"nearest\", cmap=cmap)\n",
    "    #ax1.grid(True)\n",
    "    plt.title('Correlacao de Atributos (Dataset Abalone)')\n",
    "    labels=['Sex','Length','Diam','Height','Whole','Shucked','Viscera','Shell','Rings',]\n",
    "    ax1.set_xticklabels(labels,fontsize=6)\n",
    "    ax1.set_yticklabels(labels,fontsize=6)\n",
    "    # Add colorbar, make sure to specify tick locations to match desired ticklabels\n",
    "    fig.colorbar(cax, ticks=[0.75, .8,.85,.90,.95,1])\n",
    "    \n",
    "    plt.show()"
   ]
  },
  {
   "cell_type": "code",
   "execution_count": 16,
   "metadata": {},
   "outputs": [
    {
     "data": {
      "image/png": "[encoded data removed]",
      "text/plain": [
       "<matplotlib.figure.Figure at 0x7fdd17c00350>"
      ]
     },
     "metadata": {},
     "output_type": "display_data"
    }
   ],
   "source": [
    "# Usando o pandas para criar um dataframe\n",
    "# http://datascience.stackexchange.com/questions/10459/calculation-and-visualization-of-correlation-matrix-with-pandas\n",
    "from pandas import DataFrame, read_csv\n",
    "f = 'https://archive.ics.uci.edu/ml/machine-learning-databases/abalone/abalone.data'\n",
    "df = read_csv(f)\n",
    "df=df[0:200]\n",
    "\n",
    "correlation_matrix(df)"
   ]
  }
 ],
 "metadata": {
  "anaconda-cloud": {},
  "kernelspec": {
   "display_name": "Python 2",
   "language": "python",
   "name": "python2"
  },
  "language_info": {
   "codemirror_mode": {
    "name": "ipython",
    "version": 2
   },
   "file_extension": ".py",
   "mimetype": "text/x-python",
   "name": "python",
   "nbconvert_exporter": "python",
   "pygments_lexer": "ipython2",
   "version": "2.7.14"
  }
 },
 "nbformat": 4,
 "nbformat_minor": 1
}
