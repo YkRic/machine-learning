{
 "cells": [
  {
   "cell_type": "code",
   "execution_count": 7,
   "metadata": {},
   "outputs": [],
   "source": [
    "import numpy as np\n",
    "import matplotlib.pyplot as plt\n",
    "import sys"
   ]
  },
  {
   "cell_type": "code",
   "execution_count": 359,
   "metadata": {},
   "outputs": [],
   "source": [
    "def distance_calc(obj, centroids):\n",
    "    \n",
    "    dist = np.array([])\n",
    "    \n",
    "    for i in range(len(obj)):\n",
    "        for j in range(len(centroids)):\n",
    "            \n",
    "            dist = np.append(dist, np.sqrt((obj[i][0]-centroids[j][0])**2 + (obj[i][1]-centroids[j][1])**2))\n",
    "            \n",
    "    dist = np.reshape(dist, (len(centroids),len(obj)))\n",
    "    \n",
    "    return dist\n",
    "\n",
    "\n",
    "def choose_cluster(dist):\n",
    "\n",
    "    clusters = np.array([])\n",
    "    min_dist = 0.\n",
    "    group = 0\n",
    "               \n",
    "    for i in range(dist.shape[1]):\n",
    "        for j in range(dist.shape[0]):\n",
    "                        \n",
    "            if j == 0:\n",
    "                min_dist = dist[j][i]\n",
    "                group = j\n",
    "                \n",
    "            elif dist[j][i] < min_dist:\n",
    "                min_dist = dist[j][i]\n",
    "                group = j\n",
    "                \n",
    "        clusters = np.append(clusters, group)\n",
    "        \n",
    "    return clusters\n",
    "\n",
    "\n",
    "def recalc_centroids(obj, clusters):\n",
    "    \n",
    "    new_centroids = np.array([])\n",
    "    \n",
    "    for i in range(len(np.unique(clusters))):\n",
    "        new_centroids = np.append(new_centroids, np.average(obj[np.where(clusters==i)], axis=0))\n",
    "    \n",
    "    return new_centroids.reshape(2,2)\n"
   ]
  },
  {
   "cell_type": "code",
   "execution_count": 362,
   "metadata": {},
   "outputs": [
    {
     "name": "stdout",
     "output_type": "stream",
     "text": [
      "[[2.         3.         2.23606798 2.         1.         3.16227766]\n",
      " [1.         2.82842712 3.         2.         3.16227766 3.        ]]\n"
     ]
    }
   ],
   "source": [
    "obj = np.array([[1,1],[1,2],[2,1],[3,2],[3,4],[4,4]])\n",
    "centroids = np.array([[3,1],[1,4]])\n",
    "\n",
    "distances = distance_calc(obj, centroids)\n",
    "print distances\n",
    "clusters = choose_cluster(distances)\n",
    "new_centroids = recalc_centroids(obj, clusters)\n"
   ]
  }
 ],
 "metadata": {
  "kernelspec": {
   "display_name": "Python 2",
   "language": "python",
   "name": "python2"
  },
  "language_info": {
   "codemirror_mode": {
    "name": "ipython",
    "version": 2
   },
   "file_extension": ".py",
   "mimetype": "text/x-python",
   "name": "python",
   "nbconvert_exporter": "python",
   "pygments_lexer": "ipython2",
   "version": "2.7.14"
  }
 },
 "nbformat": 4,
 "nbformat_minor": 2
}
