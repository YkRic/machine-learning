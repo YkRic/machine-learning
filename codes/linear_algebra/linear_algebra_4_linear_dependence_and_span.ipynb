{
 "cells": [
  {
   "cell_type": "markdown",
   "metadata": {},
   "source": [
    "# #4 Linear Algebra\n",
    "\n",
    "## Linear Dependence and Span\n",
    "\n",
    "\n",
    "This notebook and the others from this series focus on review important concepts of Linear Algebra, such knowledge are very important to understand further Deep Learning concepts.\n",
    "This material is the same available By Hadrien Jean in [KDnuggets](https://www.kdnuggets.com/2018/05/boost-data-science-skills-learn-linear-algebra.html).\n",
    "\n",
    "\n",
    "*This content is also part of a series following the chapter 2 on linear algebra from the Deep Learning Book by Goodfellow, I., Bengio, Y., and Courville, A.*\n",
    "\n",
    "\n",
    "**@notebook_author: [Juarez Monteiro](https://jrzmnt.github.io).**\n",
    "\n",
    "---"
   ]
  },
  {
   "cell_type": "markdown",
   "metadata": {},
   "source": [
    "# Linear Dependence and Span\n",
    "\n",
    "This chapter is quite heavy by its size and its content but I did what I could to make it more intuitive and visual. We will see how to represent systems of equations graphically, how to interpret the number of solutions of a system, what is linear combination and more. As usual, we will use **Numpy/Matplotlib** as a tool to experiment these concepts and hopefully gain a more concrete understanding."
   ]
  },
  {
   "cell_type": "markdown",
   "metadata": {},
   "source": [
    "Since it is all about systems of linear equations, let's start again with the set of equations:\n",
    "\n",
    "$$\\boldsymbol{Ax = b}$$\n",
    "\n",
    "We saw that this systems corresponds to:\n",
    "\n",
    "$$\n",
    "A_{1,1}x_1 + A_{1,2}x_2 + \\cdots + A_{1,n}x_n = b_1\\\\\n",
    "A_{2,1}x_1 + A_{2,2}x_2 + \\cdots + A_{2,n}x_n = b_2\\\\\n",
    "\\cdots \\\\\n",
    "A_{m,1}x_1 + A_{m,2}x_2 + \\cdots + A_{m,n}x_n = b_n\n",
    "$$\n",
    "\n",
    "So we have multiple equations with multiple unknows.\n",
    "We know $A_{1,1} \\cdots A_{m,n}$ and $b_1 \\cdots b_n$. In order to solve the system we need to find the values of the variables $x_1 \\cdots x_n$ that satisfies all equations."
   ]
  },
  {
   "cell_type": "markdown",
   "metadata": {},
   "source": [
    "## Number of solutions\n",
    "\n",
    "The first thing to ask when we face such a system of equations is: what is the number of solutions?\n",
    "\n",
    "Three cases can represent the number of solutions of the system of equations $\\boldsymbol{Ax = b}$.\n",
    "\n",
    "1. No solution\n",
    "2. 1 solution\n",
    "3. An infinite number of solutions"
   ]
  },
  {
   "cell_type": "markdown",
   "metadata": {},
   "source": [
    "## Why there can't be more than 1 solution and less than an infinite number of solutions?\n",
    "\n",
    "### Intuition\n",
    "\n",
    "Simply beucase we deal with **linear** systems! Two lines can't cross more than once.\n",
    "\n",
    "To be able to visualize it, let's take two dimensions and two equations. *The solutions of the system correspond to the intersection of the lines.* One option is that the two lines never cross (parallel). Another option is that they cross once. And finally, the last option is that they cross everywhere (superimposed):\n",
    "\n",
    "<img src=https://hadrienj.github.io/assets/images/2.4/number-solutions-system-equations.png>\n",
    "\n",
    "> *Two lines can't cross more than once but can be either parallel or superimposed*"
   ]
  },
  {
   "cell_type": "markdown",
   "metadata": {},
   "source": [
    "## Proof\n",
    "Let's imagine that $x$ and $y$ are two solutions of our system. This means that:\n",
    "\n",
    "$$\n",
    "\\begin{cases}\n",
    "Ax = b \\\\\\\\\n",
    "Ay = b\n",
    "\\end{cases}\n",
    "$$\n",
    "\n",
    "In that case, we will see that $z = ax + (1 - a)y$ is also a solution for any value of $a$. If $z$ is a solution, we can say that $Az = b$.\n",
    "Indeed, if we plug $z$ into the left hand side of the equation we obtain:\n",
    "\n",
    "$$\n",
    "Az = A(ax + (1- a) y)\\\\\n",
    "= Axa + A(1-a)\\\\\n",
    "= Axa + Ay(1-a)\n",
    "$$\n",
    "\n",
    "And since $Ax = Ay = b$. This leads to: \n",
    "\n",
    "$$\n",
    "Az = ba + b(1-a)\\\\\n",
    "= ba + b - ba\\\\\n",
    "= b\n",
    "$$\n",
    "\n",
    "So $z$ is a solution."
   ]
  },
  {
   "cell_type": "markdown",
   "metadata": {},
   "source": [
    "## Matrix representation of the system\n",
    "As we saw it, the equation $Ax=b$ can be represented by a matrix $A$ containing the weigths of each variable and a vector $x$ containing each variable. The product of $A$ and $x$ gives $b$ that is another vector of size $m$:\n",
    "\n",
    "$$\n",
    "\\begin{bmatrix}\n",
    "    A_{1,1} & A_{1,2} & \\cdots & A_{1,n} \\\\\\\\\n",
    "    A_{2,1} & A_{2,2} & \\cdots & A_{2,n} \\\\\\\\\n",
    "    \\cdots & \\cdots & \\cdots & \\cdots \\\\\\\\\n",
    "    A_{m,1} & A_{m,2} & \\cdots & A_{m,n}\n",
    "\\end{bmatrix}\n",
    "\\times\n",
    "\\begin{bmatrix}\n",
    "        x_1 \\\\\\\\\n",
    "        x_2 \\\\\\\\\n",
    "        \\cdots \\\\\\\\\n",
    "        x_n\n",
    "\\end{bmatrix}\n",
    "=\n",
    "\\begin{bmatrix}\n",
    "    b_1 \\\\\\\\\n",
    "    b_2 \\\\\\\\\n",
    "    \\cdots \\\\\\\\\n",
    "    b_m\n",
    "\\end{bmatrix}\n",
    "$$\n",
    "\n",
    "\n",
    "Which corresponds to the set of linear equations\n",
    "\n",
    "$$\n",
    "A_{1,1}x_1 + A_{1,2}x_2 + \\cdots + A_{1,n}x_n = b_1\\\\\n",
    "A_{2,1}x_1 + A_{2,2}x_2 + \\cdots + A_{2,n}x_n = b_2\\\\\n",
    "\\cdots \\\\\n",
    "A_{m,1}x_1 + A_{m,2}x_2 + \\cdots + A_{m,n}x_n = b_n\n",
    "$$\n",
    "\n",
    "Here are some intuitions about what is represented by these matrices. The number of columns of $A$ is the *number of dimensions of our vector space*. It is the *number n of directions we can travel by*. The number of *solutions* of our linear system corresponds to the *number of ways we can reach $b$ by travelling through our n dimensions*.\n",
    "\n",
    "But to understand this, we need to underline that two possibilities exist to represent the system of equations: the ***row figure*** and the ***column figure***."
   ]
  },
  {
   "cell_type": "markdown",
   "metadata": {},
   "source": [
    "## Graphical views: Row and column figures\n",
    "\n",
    "When you are looking to the matrix $A$:\n",
    "\n",
    "$$\n",
    "A=\n",
    "\\begin{bmatrix}\n",
    "    A_{1,1} & A_{1,2} & \\cdots & A_{1,n} \\\\\\\\\n",
    "    A_{2,1} & A_{2,2} & \\cdots & A_{2,n} \\\\\\\\\n",
    "    \\cdots & \\cdots & \\cdots & \\cdots \\\\\\\\\n",
    "    A_{m,1} & A_{m,2} & \\cdots & A_{m,n}\n",
    "\\end{bmatrix}\n",
    "$$\n",
    "\n",
    "\n",
    "You can consider its rows or its columns separately. Recall that the values are the weights corresponding to each variable. Each row synthetizes one equation. Each column is the set of weights given to 1 variable.\n",
    "\n",
    "It is possible to draw a different graphical represention of the set of equations looking at the rows or at the columns."
   ]
  },
  {
   "cell_type": "markdown",
   "metadata": {},
   "source": [
    "## Graphical view 1: the row figure\n",
    "\n",
    "The row figure is maybe more usual because it is the representation used when we have only one equation. It can now be extended to an infinite number of equations and unknowns (even if it would be hard to represent a 9-dimensional hyperplane in a 10-dimensional space).\n",
    "\n",
    "We said that the solutions of the linear system of equations are the sets of values of $x_1 \\cdots x_n$ that satisfies all equations, that is to say, the values taken by the unknowns. For instance, in the case of $A$ being a ($2x2$) matrix ($n=m=2$) the equations correspond to lines in a *2-dimensional space* and the solution of the system is the intersection of these lines.\n",
    "\n",
    "Note that associating one direction in space to one parameter is only one way to represent the equations. There are number of ways to represent more than 3 parameters systems. For instance, you can add colors to have the representation of a fourth dimension. It is all about representation.\n",
    "\n",
    "<img src=https://hadrienj.github.io/assets/images/2.4/representing-features.png>"
   ]
  },
  {
   "cell_type": "code",
   "execution_count": null,
   "metadata": {},
   "outputs": [],
   "source": []
  }
 ],
 "metadata": {
  "kernelspec": {
   "display_name": "Python 2",
   "language": "python",
   "name": "python2"
  },
  "language_info": {
   "codemirror_mode": {
    "name": "ipython",
    "version": 2
   },
   "file_extension": ".py",
   "mimetype": "text/x-python",
   "name": "python",
   "nbconvert_exporter": "python",
   "pygments_lexer": "ipython2",
   "version": "2.7.14"
  }
 },
 "nbformat": 4,
 "nbformat_minor": 2
}
