{
 "cells": [
  {
   "cell_type": "markdown",
   "metadata": {},
   "source": [
    "# #3.2 Linear Algebra\n",
    "\n",
    "## System of Linear Equations\n",
    "\n",
    "\n",
    "This notebook and the others from this series focus on review important concepts of Linear Algebra, such knowledge are very important to understand further Deep Learning concepts.\n",
    "This material is the same available By Hadrien Jean in [KDnuggets](https://www.kdnuggets.com/2018/05/boost-data-science-skills-learn-linear-algebra.html).\n",
    "\n",
    "\n",
    "*This content is also part of a series following the chapter 2 on linear algebra from the Deep Learning Book by Goodfellow, I., Bengio, Y., and Courville, A.*\n",
    "\n",
    "\n",
    "**@notebook_author: [Juarez Monteiro](https://jrzmnt.github.io).**\n",
    "\n",
    "---"
   ]
  },
  {
   "cell_type": "markdown",
   "metadata": {},
   "source": [
    "# System of Linear Equations"
   ]
  },
  {
   "cell_type": "markdown",
   "metadata": {},
   "source": [
    "This is an important part of why linear algebra can be very useful to solve variety of problems. Here we will see that it can be use to represent **system of equations**.\n",
    "\n",
    "A system of equations is a **set of multiple equations** (at least 1). \n",
    "\n",
    "For instance we could have:"
   ]
  },
  {
   "cell_type": "markdown",
   "metadata": {},
   "source": [
    "$$\n",
    "\\begin{cases}\n",
    "y = 2x + 1 \\\\\\\\\n",
    "y = \\frac{7}{2}x +3\n",
    "\\end{cases}\n",
    "$$"
   ]
  },
  {
   "cell_type": "markdown",
   "metadata": {},
   "source": [
    "A system of equations is defined by its number of equations and its number of unknowns. In our example above, the system has 2 equations and 2 unknowns (*x* and *y*). In addition **we call this a system of linear equations because each equations is linear**. It is easy to see that in 2 dimensions: we will have one straight line per equation and the dimensions are the unknowns. \n",
    "\n",
    "Here is the plot of the first one:"
   ]
  },
  {
   "cell_type": "markdown",
   "metadata": {},
   "source": [
    "<img src=\"https://hadrienj.github.io/assets/images/2.2/plot-linear-equation.png\" width=\"200px\" height=\"200px\" />"
   ]
  },
  {
   "cell_type": "markdown",
   "metadata": {},
   "source": [
    "    In our system of equations, the unknowns are the dimensions and the number of equations is the number of lines (in 2D) or n-dimensional planes."
   ]
  },
  {
   "cell_type": "markdown",
   "metadata": {},
   "source": [
    "## Using matrices to describe the system"
   ]
  },
  {
   "cell_type": "markdown",
   "metadata": {},
   "source": [
    "Matrices can be used to describe a system of linear equations of the form ***Ax*** = ***b***. \n",
    "\n",
    "Here is such a system:"
   ]
  },
  {
   "cell_type": "markdown",
   "metadata": {},
   "source": [
    "$$\n",
    "A_{1,1}x_1 + A_{1,2}x_2 + A_{1,n}x_n = b_1\\\\\n",
    "A_{2,1}x_1 + A_{2,2}x_2 + A_{2,n}x_n = b_2\\\\\n",
    "\\cdots\\\\\n",
    "A_{m,1}x_1 + A_{m,2}x_2 + A_{m,n}x_n = b_n\n",
    "$$"
   ]
  },
  {
   "cell_type": "markdown",
   "metadata": {},
   "source": [
    "The unknows (what we want to find to solve the system) are the variables $x_1$ and $x_2$ corresponding to the previous variables $x$ and $y$. It is exactly the same form as with the last example but with all the variables on the same side.\n",
    "$y = 2x + 1$ becomes $ -2x + y = 1$ with $x$ corresponding to $x_1$ and $y$ corresponding to $x_2$. We will have $n$ unknows and $m$ equations.\n",
    "\n",
    "The variables are named $x_1, x_2, ..., x_n$ by convention because we will see that it can be summarised in the vector *$x$*."
   ]
  },
  {
   "cell_type": "markdown",
   "metadata": {},
   "source": [
    "## Left hand side"
   ]
  },
  {
   "cell_type": "markdown",
   "metadata": {},
   "source": [
    "The left hand term can be considered as the product of a matrix ***A*** containing weights for each variable ($n$ columns) and each equation ($m$ rows):"
   ]
  },
  {
   "cell_type": "markdown",
   "metadata": {},
   "source": [
    "$$\n",
    "A=\n",
    "\\begin{bmatrix}\n",
    "    A_{1,1} & A_{1,2} & \\cdots & A_{1,n} \\\\\\\\\n",
    "    A_{2,1} & A_{2,2} & \\cdots & A_{2,n} \\\\\\\\\n",
    "    \\cdots & \\cdots & \\cdots & \\cdots \\\\\\\\\n",
    "    A_{m,1} & A_{m,2} & \\cdots & A_{m,n}\n",
    "\\end{bmatrix}\n",
    "$$"
   ]
  },
  {
   "cell_type": "markdown",
   "metadata": {},
   "source": [
    "With a vector ***x*** containing the $n$ unknows:"
   ]
  },
  {
   "cell_type": "markdown",
   "metadata": {},
   "source": [
    "$$\n",
    "x=\n",
    "\\begin{bmatrix}\n",
    "    x_1 \\\\\\\\\n",
    "    x_2 \\\\\\\\\n",
    "    \\cdots \\\\\\\\\n",
    "    x_n\n",
    "\\end{bmatrix}\n",
    "$$"
   ]
  },
  {
   "cell_type": "markdown",
   "metadata": {},
   "source": [
    "The dot product of ***A*** and ***x*** gives a set of equations. \n",
    "\n",
    "Here is a simple axample:\n",
    "\n",
    "<img src=\"https://hadrienj.github.io/assets/images/2.2/system-linear-equations-matrix-form.png\" height=\"400px\" width=\"400px\">"
   ]
  },
  {
   "cell_type": "markdown",
   "metadata": {},
   "source": [
    "We have a set of two equations with two unknows. so the number of **rows** of ***A*** gives the **number of equations** and the number of **columns** gives the **number of unknows**."
   ]
  },
  {
   "cell_type": "markdown",
   "metadata": {},
   "source": [
    "## Both sides\n",
    "\n",
    "The equation system can be wrote like that:"
   ]
  },
  {
   "cell_type": "markdown",
   "metadata": {},
   "source": [
    "$$\n",
    "\\begin{bmatrix}\n",
    "    A_{1,1} & A_{1,2} & \\cdots & A_{1,n} \\\\\\\\\n",
    "    A_{2,1} & A_{2,2} & \\cdots & A_{2,n} \\\\\\\\\n",
    "    \\cdots & \\cdots & \\cdots & \\cdots \\\\\\\\\n",
    "    A_{m,1} & A_{m,2} & \\cdots & A_{m,n}\n",
    "\\end{bmatrix}\n",
    "\\times\n",
    "\\begin{bmatrix}\n",
    "        x_1 \\\\\\\\\n",
    "        x_2 \\\\\\\\\n",
    "        \\cdots \\\\\\\\\n",
    "        x_n\n",
    "\\end{bmatrix}\n",
    "=\n",
    "\\begin{bmatrix}\n",
    "    b_1 \\\\\\\\\n",
    "    b_2 \\\\\\\\\n",
    "    \\cdots \\\\\\\\\n",
    "    b_m\n",
    "\\end{bmatrix}\n",
    "$$"
   ]
  },
  {
   "cell_type": "markdown",
   "metadata": {},
   "source": [
    "Or simply: $Ax=b$"
   ]
  },
  {
   "cell_type": "markdown",
   "metadata": {},
   "source": [
    "Now, we will try to convert the common form of a linear equation to the matrix form: $$y=ax+b$$ \n",
    "\n",
    "If we want to keep the previous notation we will have instead: $$x_2 = ax_1 + b$$\n",
    "\n",
    "\n",
    "\n",
    "Don't confuse the variable $x_1$ and $x_2$ with the vector ***x***. This vector contains actually all the variables of our equations. Here we have:\n",
    "\n",
    "$$\n",
    "x =\n",
    "\\begin{bmatrix}\n",
    "   x_1 \\\\\n",
    "   x_2\n",
    "\\end{bmatrix}\n",
    "$$\n",
    "\n",
    "In this example we will use the following equation: $$x_2 = 2x_1 +1 \\Longleftrightarrow 2x_1 - x_2 = -1$$\n",
    "\n",
    "In order to end up with this system when we multiply ***A*** and ***x*** we need ***A*** to be a matrix containing the weights of each variable. The weight of $x_1$ is 2 and the weights of $x_2$ is -1: $$A = \\begin{bmatrix}2\\space\\space\\space -1\\end{bmatrix}$$\n",
    "\n",
    "So we have:\n",
    "\n",
    "$$\n",
    "\\begin{bmatrix}\n",
    "2 -1\n",
    "\\end{bmatrix}\n",
    "\\begin{bmatrix}\n",
    "x_1\\\\\n",
    "x_2\\\\\n",
    "\\end{bmatrix}\n",
    "=\n",
    "\\begin{bmatrix}\n",
    "2x_1 - 1x_2\n",
    "\\end{bmatrix}\n",
    "$$\n",
    "\n",
    "To complete the equation we have $$b = \\begin{bmatrix}-1\\end{bmatrix}$$\n",
    "\n",
    "Which gives \n",
    "$$\n",
    "\\begin{bmatrix}\n",
    "2 -1\n",
    "\\end{bmatrix}\n",
    "\\begin{bmatrix}\n",
    "x_1\\\\\n",
    "x_2\\\\\n",
    "\\end{bmatrix}\n",
    "=\n",
    "\\begin{bmatrix}\n",
    "-1\n",
    "\\end{bmatrix}\n",
    "$$\n",
    "\n",
    "This system of equations is thus very simple and contains only 1 equation (***A*** hsa 1 row) and 2 variables (***A*** has 2 columns).\n",
    "\n",
    "To summarize, ***A*** will be the matrix of dimensions $m \\times n$ containing scalars multiplying these variables (here $x_1$ is multiplied by 2 and $x_2$ by -1). The vector ***x*** contains the variables $x_1$ and $x_2$. And the right hand term is the constant ***b***:\n",
    "\n",
    "$$A = \\begin{bmatrix}2 \\space\\space\\space -1 \\end{bmatrix}$$\n",
    "\n",
    "\n",
    "$$ \n",
    "x = \n",
    "\\begin{bmatrix}\n",
    "x_1 \\\\ \n",
    "x_2\n",
    "\\end{bmatrix}\n",
    "$$\n",
    "\n",
    "\n",
    "$$ b = \\begin{bmatrix}-1\\end{bmatrix}$$\n",
    "\n",
    "We can write this system as $$\\boldsymbol{Ax = b}$$"
   ]
  },
  {
   "cell_type": "markdown",
   "metadata": {},
   "source": [
    "<center>*This compact way of writing sets of linear equations can be very usefull. It provides actually a way to solve equations.*</center>"
   ]
  },
  {
   "cell_type": "markdown",
   "metadata": {},
   "source": [
    "## BONUS: Coding tip - Draw an equation\n",
    "\n",
    "To draw the equation with **Matplotlib**, we first need to create a vector with all the ***x*** values. Actually, since this is a line, only two points would have been sufficient. But with more complex functions, the length of the vector ***x*** corresponds to the sampling rate. So here we used the **Numpy** function ```arrange()``` to create a vector from **−10** to **10** (not included)."
   ]
  },
  {
   "cell_type": "code",
   "execution_count": 2,
   "metadata": {},
   "outputs": [
    {
     "ename": "NameError",
     "evalue": "name 'np' is not defined",
     "output_type": "error",
     "traceback": [
      "\u001b[0;31m---------------------------------------------------------------------------\u001b[0m",
      "\u001b[0;31mNameError\u001b[0m                                 Traceback (most recent call last)",
      "\u001b[0;32m<ipython-input-2-c008e2c36a2b>\u001b[0m in \u001b[0;36m<module>\u001b[0;34m()\u001b[0m\n\u001b[0;32m----> 1\u001b[0;31m \u001b[0mnp\u001b[0m\u001b[0;34m.\u001b[0m\u001b[0marange\u001b[0m\u001b[0;34m(\u001b[0m\u001b[0;34m-\u001b[0m\u001b[0;36m10\u001b[0m\u001b[0;34m,\u001b[0m\u001b[0;36m10\u001b[0m\u001b[0;34m,\u001b[0m\u001b[0;36m2\u001b[0m\u001b[0;34m)\u001b[0m\u001b[0;34m\u001b[0m\u001b[0m\n\u001b[0m",
      "\u001b[0;31mNameError\u001b[0m: name 'np' is not defined"
     ]
    }
   ],
   "source": [
    "np.arange(-10,10,2)"
   ]
  },
  {
   "cell_type": "markdown",
   "metadata": {},
   "source": [
    "\n"
   ]
  }
 ],
 "metadata": {
  "kernelspec": {
   "display_name": "Python 2",
   "language": "python",
   "name": "python2"
  },
  "language_info": {
   "codemirror_mode": {
    "name": "ipython",
    "version": 2
   },
   "file_extension": ".py",
   "mimetype": "text/x-python",
   "name": "python",
   "nbconvert_exporter": "python",
   "pygments_lexer": "ipython2",
   "version": "2.7.14"
  }
 },
 "nbformat": 4,
 "nbformat_minor": 2
}
