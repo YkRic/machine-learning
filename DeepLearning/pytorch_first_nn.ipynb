{
 "cells": [
  {
   "cell_type": "markdown",
   "metadata": {},
   "source": [
    "# Pytorch - First Neural Net!\n",
    "\n",
    "\n",
    "This notebook focus on create a neural network using Pytorch and the MNIST dataset. \n",
    "This material is the same available By Jeff Hu in [KDnuggets](https://www.kdnuggets.com/2018/02/simple-starter-guide-build-neural-network.html).\n",
    "\n",
    "\n",
    "**@notebook_author: [Juarez Monteiro](https://jrzmnt.github.io).**\n",
    "\n",
    "---\n",
    "\n"
   ]
  },
  {
   "cell_type": "markdown",
   "metadata": {},
   "source": [
    "*This guide serves as a basic hands-on work to lead you through building a neural network from scratch. Most of the mathematical concepts and scientific decisions are left out.*"
   ]
  },
  {
   "cell_type": "markdown",
   "metadata": {},
   "source": [
    "### Import PyTorch\n",
    "\n",
    "It will load PyTorch into the codes. Great! A well beginning is half done.\n",
    "\n"
   ]
  },
  {
   "cell_type": "code",
   "execution_count": 1,
   "metadata": {},
   "outputs": [],
   "source": [
    "import torch\n",
    "import torch.nn as nn\n",
    "import torchvision.datasets as dsets\n",
    "import torchvision.transforms as transforms\n",
    "from torch.autograd import Variable"
   ]
  },
  {
   "cell_type": "markdown",
   "metadata": {},
   "source": [
    "### Initialize Hyper-parameters"
   ]
  },
  {
   "cell_type": "code",
   "execution_count": 2,
   "metadata": {},
   "outputs": [],
   "source": [
    "input_size = 784      # The image size = 28x28 = 784\n",
    "hidden_size = 500     # The number of nodes at the hidden layer\n",
    "num_classes = 10      # The number of output classes. In this case, from 0 to 9\n",
    "num_epochs = 5        # The number of times entire datsaet is trained\n",
    "batch_size = 100      # The size of input data took for one iteration\n",
    "learning_rate = 0.001 # The speed of convergence"
   ]
  },
  {
   "cell_type": "markdown",
   "metadata": {},
   "source": [
    "### Download MNIST Dataset\n",
    "\n",
    "MNIST is a database with tons of handwritten digits (i.e. 0 to 9) aims for the usage of image processing."
   ]
  },
  {
   "cell_type": "code",
   "execution_count": 3,
   "metadata": {},
   "outputs": [],
   "source": [
    "train_dataset = dsets.MNIST(root='./../../../Datasets/',\n",
    "                           train=True,\n",
    "                           transform=transforms.ToTensor(),\n",
    "                           download=True\n",
    "                           )\n",
    "\n",
    "test_dataset = dsets.MNIST(root='./../../../Datasets/',\n",
    "                           train=False,\n",
    "                           transform=transforms.ToTensor()\n",
    "                          )"
   ]
  },
  {
   "cell_type": "markdown",
   "metadata": {},
   "source": [
    "### Load the Dataset\n",
    "After downloading the MNIST dataset, we load them into our codes."
   ]
  },
  {
   "cell_type": "code",
   "execution_count": 4,
   "metadata": {},
   "outputs": [],
   "source": [
    "train_loader = torch.utils.data.DataLoader(dataset=train_dataset,\n",
    "                                           batch_size=batch_size,\n",
    "                                           shuffle=True\n",
    "                                          )\n",
    "\n",
    "test_loader = torch.utils.data.DataLoader(dataset=test_dataset,\n",
    "                                          batch_size=batch_size,\n",
    "                                          shuffle=False\n",
    "                                         )"
   ]
  },
  {
   "cell_type": "markdown",
   "metadata": {},
   "source": [
    "*Note: We shuffle the loading process of train_dataset to make the learning process independent of data order, but the order of test_loader remains to examine whether we can handle unspecified bias order of inputs.*"
   ]
  },
  {
   "cell_type": "markdown",
   "metadata": {},
   "source": [
    "### Build the Feedforward Neural Network\n",
    "Now we have our datasets ready. We will start building the **neural network**. *The conceptual illustration can be viewed as below:*\n"
   ]
  },
  {
   "cell_type": "markdown",
   "metadata": {},
   "source": [
    "![img](https://cdn-images-1.medium.com/max/800/1*toBL6XleRkwABSwTAFaY_g.png \"Example of a Feedforward Neural Network.\")"
   ]
  },
  {
   "cell_type": "markdown",
   "metadata": {},
   "source": [
    "### Feedforward Neural Network Model Structure\n",
    "\n",
    "The NN includes **two fully-connected layers** (i.e. fc1 & fc2) and a **non-linear ReLU layer** in between. \n",
    "Normally we call this structure **1-hidden layer NN**, without counting the output layer (fc2) in.\n",
    "\n",
    "By running the forward pass, the input images (x) can go through the neural network and generate a output (out) demonstrating how are the likabilities it belongs to each of the 10 classes. \n",
    "*For example, a cat image can have 0.8 likability to a dog class and a 0.3 likability to a airplane class.*"
   ]
  },
  {
   "cell_type": "code",
   "execution_count": 5,
   "metadata": {},
   "outputs": [],
   "source": [
    "class Net(nn.Module):\n",
    "    \n",
    "    # Initialize the neural network\n",
    "    def __init__(self, input_size, hidden_size, num_classes):\n",
    "        \n",
    "        # Inherited from the parent class nn.Module\n",
    "        super(Net, self).__init__()\n",
    "        \n",
    "        # 1st Full-Connected Layer: 784 (input data) -> 500 (hidden node)\n",
    "        self.fc1 = nn.Linear(input_size, hidden_size)\n",
    "        \n",
    "        # Non-Linear ReLU Layer: max(0,x)\n",
    "        self.relu = nn.ReLU()\n",
    "        \n",
    "        # 2nd Full-Connected Layer: 500 (hidden node) -> 10 (output class)\n",
    "        self.fc2 = nn.Linear(hidden_size, num_classes)\n",
    "    \n",
    "    # Forward pass: stacking each layer together\n",
    "    def forward(self, x):\n",
    "        \n",
    "        out = self.fc1(x)\n",
    "        out = self.relu(out)\n",
    "        out = self.fc2(out)\n",
    "        return out"
   ]
  },
  {
   "cell_type": "markdown",
   "metadata": {},
   "source": [
    "### Instantiate the NN\n",
    "We now create a real NN based on our structure."
   ]
  },
  {
   "cell_type": "code",
   "execution_count": 6,
   "metadata": {},
   "outputs": [
    {
     "name": "stdout",
     "output_type": "stream",
     "text": [
      "Net(\n",
      "  (fc1): Linear(in_features=784, out_features=500, bias=True)\n",
      "  (relu): ReLU()\n",
      "  (fc2): Linear(in_features=500, out_features=10, bias=True)\n",
      ")\n"
     ]
    }
   ],
   "source": [
    "net = Net(input_size, hidden_size, num_classes)\n",
    "print net"
   ]
  },
  {
   "cell_type": "markdown",
   "metadata": {},
   "source": [
    "### Enable GPU\n",
    "Note: you could enable this line to run the codes on GPU."
   ]
  },
  {
   "cell_type": "code",
   "execution_count": 7,
   "metadata": {},
   "outputs": [],
   "source": [
    "#net = net.cuda()"
   ]
  },
  {
   "cell_type": "markdown",
   "metadata": {},
   "source": [
    "### Choose the Loss Function and Optimizer\n",
    "\n",
    "Loss function (**criterion**) decides how the output can be compared to a class, which determines how good or bad the neural network performs.\n",
    "And the **optimizer** chooses a way to update the weight in order to converge to find the best weights in this NN."
   ]
  },
  {
   "cell_type": "code",
   "execution_count": 8,
   "metadata": {},
   "outputs": [],
   "source": [
    "criterion = nn.CrossEntropyLoss()\n",
    "optimizer = torch.optim.Adam(net.parameters(), lr=learning_rate)"
   ]
  },
  {
   "cell_type": "markdown",
   "metadata": {},
   "source": [
    "### Training the Model\n",
    "\n",
    "This process might takes around 3 to 5 minutes depending on your machine.\n",
    "The detailed explanations are listed as comments (#) in the following codes."
   ]
  },
  {
   "cell_type": "code",
   "execution_count": 9,
   "metadata": {
    "scrolled": true
   },
   "outputs": [
    {
     "name": "stderr",
     "output_type": "stream",
     "text": [
      "/home/juarez/anaconda2/lib/python2.7/site-packages/ipykernel_launcher.py:29: UserWarning: invalid index of a 0-dim tensor. This will be an error in PyTorch 0.5. Use tensor.item() to convert a 0-dim tensor to a Python number\n"
     ]
    },
    {
     "name": "stdout",
     "output_type": "stream",
     "text": [
      "Epoch [1/5], Step [100/600], Loss: 0.3313\n",
      "Epoch [1/5], Step [200/600], Loss: 0.3219\n",
      "Epoch [1/5], Step [300/600], Loss: 0.1749\n",
      "Epoch [1/5], Step [400/600], Loss: 0.1913\n",
      "Epoch [1/5], Step [500/600], Loss: 0.1426\n",
      "Epoch [1/5], Step [600/600], Loss: 0.2501\n",
      "Epoch [2/5], Step [100/600], Loss: 0.1005\n",
      "Epoch [2/5], Step [200/600], Loss: 0.0947\n",
      "Epoch [2/5], Step [300/600], Loss: 0.0938\n",
      "Epoch [2/5], Step [400/600], Loss: 0.2195\n",
      "Epoch [2/5], Step [500/600], Loss: 0.0469\n",
      "Epoch [2/5], Step [600/600], Loss: 0.1042\n",
      "Epoch [3/5], Step [100/600], Loss: 0.0409\n",
      "Epoch [3/5], Step [200/600], Loss: 0.0576\n",
      "Epoch [3/5], Step [300/600], Loss: 0.0665\n",
      "Epoch [3/5], Step [400/600], Loss: 0.0377\n",
      "Epoch [3/5], Step [500/600], Loss: 0.1296\n",
      "Epoch [3/5], Step [600/600], Loss: 0.1437\n",
      "Epoch [4/5], Step [100/600], Loss: 0.0291\n",
      "Epoch [4/5], Step [200/600], Loss: 0.0323\n",
      "Epoch [4/5], Step [300/600], Loss: 0.0554\n",
      "Epoch [4/5], Step [400/600], Loss: 0.0228\n",
      "Epoch [4/5], Step [500/600], Loss: 0.0379\n",
      "Epoch [4/5], Step [600/600], Loss: 0.0595\n",
      "Epoch [5/5], Step [100/600], Loss: 0.0231\n",
      "Epoch [5/5], Step [200/600], Loss: 0.0084\n",
      "Epoch [5/5], Step [300/600], Loss: 0.0446\n",
      "Epoch [5/5], Step [400/600], Loss: 0.0241\n",
      "Epoch [5/5], Step [500/600], Loss: 0.0561\n",
      "Epoch [5/5], Step [600/600], Loss: 0.0533\n"
     ]
    }
   ],
   "source": [
    "for epoch in range(num_epochs):\n",
    "    \n",
    "    # Load a batch of images with its (index, data, class)\n",
    "    for i, (images, labels) in enumerate(train_loader):\n",
    "        \n",
    "        # Convert torch tensor to Variable: change image from a vector of size 784 to a matrix of 28 x 28\n",
    "        images = Variable(images.view(-1, 28*28))\n",
    "        \n",
    "        # Initialize the hidden weight to all zeros\n",
    "        optimizer.zero_grad()\n",
    "        \n",
    "        # Forward pass: compute the output class given an image\n",
    "        outputs = net(images)\n",
    "        \n",
    "        \n",
    "        # Compute the loss: difference between the output class and the pre-given label\n",
    "        loss = criterion(outputs, labels)\n",
    "        \n",
    "        \n",
    "        # Backward pass: compute the weight\n",
    "        loss.backward()\n",
    "        \n",
    "        # Optimizer: update the weights of hidden nodes\n",
    "        optimizer.step()\n",
    "        \n",
    "        # Logging\n",
    "        if (i+1) % 100 == 0:\n",
    "            print('Epoch [%d/%d], Step [%d/%d], Loss: %.4f'\n",
    "                 %(epoch+1, num_epochs, i+1, len(train_dataset)//batch_size, loss.data[0]))"
   ]
  },
  {
   "cell_type": "markdown",
   "metadata": {},
   "source": [
    "### Testing the Model\n",
    "\n",
    "Similar to training the neural network, we also need to load batches of **test images and collect the outputs**. The **differences** are that:\n",
    "\n",
    " - No loss & weights calculations\n",
    " - No weights update\n",
    " - Has correct prediction calculation"
   ]
  },
  {
   "cell_type": "code",
   "execution_count": 11,
   "metadata": {},
   "outputs": [
    {
     "name": "stdout",
     "output_type": "stream",
     "text": [
      "Accuracy of the network on the 10K test images: 97%\n"
     ]
    }
   ],
   "source": [
    "correct = 0\n",
    "total = 0\n",
    "\n",
    "for images, labels in test_loader:\n",
    "    \n",
    "    images = Variable(images.view(-1, 28*28))\n",
    "    outputs = net(images)\n",
    "    \n",
    "    # Choose the best class from the output (The class with the best score)\n",
    "    _, predicted = torch.max(outputs.data, 1)\n",
    "    \n",
    "    # Increment the total count\n",
    "    total += labels.size(0)\n",
    "    \n",
    "    # Increment the correct count\n",
    "    correct += (predicted == labels).sum()\n",
    "    \n",
    "print('Accuracy of the network on the 10K test images: %d%%' % (100 * correct / total))"
   ]
  },
  {
   "cell_type": "markdown",
   "metadata": {},
   "source": [
    "### Save the trained Model as a pickle that can be loaded and used later"
   ]
  },
  {
   "cell_type": "code",
   "execution_count": 14,
   "metadata": {},
   "outputs": [],
   "source": [
    "#torch.save(net.state_dict(), 'mnist_nn_model.pkl')"
   ]
  },
  {
   "cell_type": "code",
   "execution_count": null,
   "metadata": {},
   "outputs": [],
   "source": []
  }
 ],
 "metadata": {
  "kernelspec": {
   "display_name": "Python 2",
   "language": "python",
   "name": "python2"
  },
  "language_info": {
   "codemirror_mode": {
    "name": "ipython",
    "version": 2
   },
   "file_extension": ".py",
   "mimetype": "text/x-python",
   "name": "python",
   "nbconvert_exporter": "python",
   "pygments_lexer": "ipython2",
   "version": "2.7.14"
  }
 },
 "nbformat": 4,
 "nbformat_minor": 2
}
